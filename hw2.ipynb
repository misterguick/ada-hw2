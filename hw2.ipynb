{
 "cells": [
  {
   "cell_type": "markdown",
   "metadata": {},
   "source": [
    "# Homework 2 (HW2)\n",
    "\n",
    "---\n",
    "By the end of this homework we expect you to be able to:\n",
    "1. Preprocess data and make it amenable to statistical analysis and machine learning models;\n",
    "2. Train and test out-of-the-box machine learning models in Python;\n",
    "3. Carry out statistical hypothesis testing;\n",
    "4. Carry out simple multivariate regression analyses;\n",
    "5. Use techniques to control for covariates;\n",
    "---\n",
    "\n",
    "## Important Dates\n",
    "\n",
    "- Homework release: Fri 6 Nov 2020\n",
    "- **Homework due**: Fri 20 Nov 2020, 23:59\n",
    "- Grade release: Mon 30 Nov 2020\n",
    "\n",
    "---\n",
    "\n",
    "##  Some rules\n",
    "\n",
    "1. You are allowed to use any built-in Python library that comes with Anaconda. If you want to use an external library, you have to justify your choice.\n",
    "2. Make sure you use the data folder provided in the repository in **read-only** mode.\n",
    "3. Be sure to provide a textual description of your thought process, the assumptions you made, the solution you implemented, and explanations for your answers. A notebook that only has code cells will not suffice.\n",
    "4. For questions containing the **/Discuss:/** prefix, answer not with code, but with a textual explanation (in markdown).\n",
    "5. Back up any hypotheses and claims with data, since this is an important aspect of the course.\n",
    "6. Please write all your comments in English, and use meaningful variable names in your code. Your repo should have a single notebook (plus the required data files) in the master branch. If there are multiple notebooks present, we will **strictly** not grade anything.\n",
    "7. Also, be sure to hand in a fully-run and evaluated notebook. We will not run your notebook for you, we will grade it as is, which means that only the results contained in your evaluated code cells will be considered, and we will not see the results in unevaluated code cells. In order to check whether everything looks as intended, you can check the rendered notebook on the GitHub website once you have pushed your solution there.\n",
    "8. Make sure to print results or dataframes that confirm you have properly addressed the task.\n",
    "9. Lastly, the grading is done in the *double blind* mode, i.e., the TAs grades an anonymized version of your notebook, so make sure that your notebook **neither has your team name nor the names of the members**.\n",
    "\n",
    "## Context\n",
    "\n",
    "Publishing papers is a big part of the lives of [Ph.D. students](http://phdcomics.com/comics/archive.php?comicid=154), [post-docs](http://phdcomics.com/comics/archive.php?comicid=1744) and [professors](http://phdcomics.com/comics/archive.php?comicid=1051). \n",
    "In Computer Science, publishing happens mostly in conferences. What follows is a slight simplification of how these conferences decide which papers to accept and which papers to reject.\n",
    " \n",
    "Every year, scholars submit papers to prestigious conferences. The papers are then assigned to reviewers (usually around 3), who are other people from the same research community (respect thy neighbor!). Each reviewer weighs in on whether they believe the papers they were assigned are good or bad, and write a review, often along with a score (e.g. +3 Strong Accept, +2 Accept, +1 Weak Accept, 0 Borderline, …,  -3 Strong Reject). Then, in the end, \"special\" reviewers called, \"Area Chairs\" analyze all the reviews that were written for the same paper and decide what gets accepted and what gets rejected. Importantly, throughout this whole dance, reviewers and authors are anonymous. When you're reviewing a paper, you do not know who wrote it. And when you receive the review, you don't know who reviewed it. Because of that, we call this a double-blind reviewing process.\n",
    "\n",
    "An interesting development that has evolved in recent years is the rise of pre-prints. In previous times, researchers often exposed their research to the world only after it had been peer-reviewed and published in a conference or a journal. But recently researchers are much keener to let their ideas out into the world as soon as possible, and they publish their research before it has been approved to any conference or journal, by posting the research on so-called pre-print servers. The most common pre-print server for Computer Science, Physics, and Maths is called [arXiv](https://arxiv.org/), for Biology, an increasingly popular one is [bioRxiv](https://www.biorxiv.org/), for Psychology [psyArXiv](https://psyarxiv.com/) (they are not very creative with the names). Notice that pre-prints and peer-review are not mutually exclusive, in fact, usually, you publish your pre-print, and then you try to publish your work in a peer-reviewed setting.\n",
    "\n",
    "Overall, publishing pre-prints has many benefits. They make science more accessible and hasten the circulation of important results in the academic community. However, a big issue brought forth with pre-prints is that they often break the anonymity in the double-blind reviewing process. For instance, in machine learning, since most papers are published as pre-prints, it is often easy to figure out if the paper you are reviewing is from a famous researcher or a big company with prominent research scientists. From critics' viewpoint, knowing the authors of the papers you are reviewing can bias your reviews. If you know that a given author is famous, you'd be more inclined to take his or her word for granted. If the author is from an institution you’ve never heard about, you are more likely to doubt his or her findings.\n",
    "\n",
    "In this homework, we will take a data-driven deep dive into the world of academic publishing. Can you use your freshly acquired data-science skills to predict which papers are going to make the cut? Are your data analysis skills sharp enough to figure out whether the aforementioned concerns about pre-print issues are justified?\n",
    "\n",
    "\n",
    "## The data\n",
    "\n",
    "The data, whose source has been *\"double-blinded\"* from you, and which has been simplified a bit for the assignment, contains information about submissions to a prestigious machine learning conference called ICLR (pronounced “I-clear”). You can find the dataframe in the git repo for the homework (`./data/dataset_final.csv`). We provide a brief description of the fields you will encounter.\n",
    "\n",
    "- `year`: year the paper has been submitted to ICLR. Notice that we provide data for three years, 2018, 2019, and 2020.\n",
    "\n",
    "\n",
    "- `paper`: title of the paper.\n",
    "\n",
    "\n",
    "- `authors`: names of the authors separated by ;.\n",
    "\n",
    "\n",
    "- `ratings`: mean rating given to the paper by the reviewers.\n",
    "\n",
    "\n",
    "- `decisions`: either Accept if the paper was accepted, or Reject otherwise.\n",
    "\n",
    "\n",
    "- `institution`: institutions for each of the authors, separated by ;.\n",
    "\n",
    "\n",
    "- `csranking`: ranking of the institutions according to csrankings. The better the institution, the better the rank. Notice that, if a paper has more than 1 author, this field will contain multiple values, separated by ;. For institutions that are not in csrankings, the value will be -1.\n",
    "\n",
    "\n",
    "- `categories`: topical categories of the paper. Each number corresponds to a different category: (1) Theory, (2) Computer Vision, (3) Natural Language Processing, (4) Adversarial ML, (5) Generative Modeling, (7) Fairness, (8) Generalization, (9) Optimization, (10) Graphs, (11) Bayesian Methods, (0) Others. A paper may belong to multiple categories, separated by ;.\n",
    "\n",
    "\n",
    "- `authors_citations`: number of citations of each one of the authors, separated by ;.\n",
    "\n",
    "\n",
    "- `authors_publications`: number of publications by each one of the authors, separated by ;.\n",
    "\n",
    "\n",
    "- `authors_hindex`: h-index of each one of the authors, separated by ;. The h-index is an author-level metric that measures both the productivity and citation impact of the publications of a scientist or scholar. It is the maximum value $h$ such that the given author has published $h$ papers that have each been cited at least $h$ times.\n",
    "\n",
    "\n",
    "- `arxiv`: whether the paper was spotted in a pre-print server around the submission period.\n",
    "\n",
    "Also, notice that in this dataframe, when some piece of data was not available, -1 will be used as the value. For example, companies aren't a part of csrankings, so for people who work in big companies, the values are -1 in the field csranking.\n"
   ]
  },
  {
   "cell_type": "markdown",
   "metadata": {},
   "source": [
    "## _Step 1:_ Predicting paper ratings\n",
    "\n",
    "The first part of this homework poses a simple question: Can you predict the ratings the paper will receive given attributes related to its authors? To answer this question, we will build an ML pipeline from scratch, preprocessing the data, training a regression model, and then evaluating it.\n",
    "\n",
    "\n",
    "---\n",
    "\n",
    "### Task 1.1\n",
    "\n",
    "Some of the fields in the data are not very amenable to serve as input to traditional machine learning algorithms. Namely, we have some fields for which there are a varying number of values (e.g. papers with 3 authors will have 3 values in the `author_citations` field, papers with 5 authors will have 5).\n",
    "\n",
    "\n",
    "Your first task is to perform some feature engineering and derive unique values for each paper which you will be able to use in your ML model. \n",
    "More specifically, you must:\n",
    "\n",
    "1. Create 3 new fields in the dataframe corresponding to the median value of the number of citations per author, the number of publications per author, and the h-index per author. So for instance, for the row `authors_publications`, you will create an additional column, e.g. `authors_publications_median`, containing the median number of publications per author in each paper.\n",
    "2. Create another field entitled `reputation` capturing how famous the last author of the paper is. Notice that the last author of the paper is usually the most senior person involved in the project. This field should equal $\\log_{10}\\Big(\\frac{\\#citations}{\\#publications} + 1\\Big)$. Notice that each author in the dataset has at least 1 publication, so you don't risk dividing by 0.\n",
    "3. Create two fields called `has_top_company` and `has_top_institution`. The field `has_top_company` equals 1 if the article contains an author in the following list of companies `[\"Facebook\", \"Google\", \"Microsoft\", \"Deepmind\"]`, and 0 otherwise. The field `has_top_institution` equals 1 if the article contains an author in the top 10 institutions according to CSRankings.\n",
    "4. **Discuss:** How did you handle -1 values in item 1.1.1? Justify your approach.\n",
    "\n",
    "---"
   ]
  },
  {
   "cell_type": "code",
   "execution_count": 1,
   "metadata": {},
   "outputs": [
    {
     "data": {
      "text/html": [
       "<div>\n",
       "<style scoped>\n",
       "    .dataframe tbody tr th:only-of-type {\n",
       "        vertical-align: middle;\n",
       "    }\n",
       "\n",
       "    .dataframe tbody tr th {\n",
       "        vertical-align: top;\n",
       "    }\n",
       "\n",
       "    .dataframe thead th {\n",
       "        text-align: right;\n",
       "    }\n",
       "</style>\n",
       "<table border=\"1\" class=\"dataframe\">\n",
       "  <thead>\n",
       "    <tr style=\"text-align: right;\">\n",
       "      <th></th>\n",
       "      <th>year</th>\n",
       "      <th>paper</th>\n",
       "      <th>authors</th>\n",
       "      <th>ratings</th>\n",
       "      <th>decisions</th>\n",
       "      <th>institution</th>\n",
       "      <th>csranking</th>\n",
       "      <th>categories</th>\n",
       "      <th>authors_citations</th>\n",
       "      <th>authors_publications</th>\n",
       "      <th>authors_hindex</th>\n",
       "      <th>arxiv</th>\n",
       "      <th>authors_citations_median</th>\n",
       "      <th>authors_publications_median</th>\n",
       "      <th>authors_hindex_median</th>\n",
       "      <th>reputation</th>\n",
       "      <th>has_top_company</th>\n",
       "      <th>has_top_institution</th>\n",
       "    </tr>\n",
       "  </thead>\n",
       "  <tbody>\n",
       "    <tr>\n",
       "      <th>0</th>\n",
       "      <td>2018</td>\n",
       "      <td>Certifying Some Distributional Robustness with...</td>\n",
       "      <td>Aman Sinha;Hongseok Namkoong;John Duchi</td>\n",
       "      <td>9.000000</td>\n",
       "      <td>Accept</td>\n",
       "      <td>Stanford University;Stanford University;Stanfo...</td>\n",
       "      <td>4;4;4</td>\n",
       "      <td>4</td>\n",
       "      <td>655;904;12908</td>\n",
       "      <td>42;19;162</td>\n",
       "      <td>8;10;42</td>\n",
       "      <td>True</td>\n",
       "      <td>779.5</td>\n",
       "      <td>30.5</td>\n",
       "      <td>9.0</td>\n",
       "      <td>1.906761</td>\n",
       "      <td>0.0</td>\n",
       "      <td>1.0</td>\n",
       "    </tr>\n",
       "    <tr>\n",
       "      <th>1</th>\n",
       "      <td>2018</td>\n",
       "      <td>Parametric Information Bottleneck to Optimize ...</td>\n",
       "      <td>Thanh T. Nguyen;Jaesik Choi</td>\n",
       "      <td>4.666667</td>\n",
       "      <td>Reject</td>\n",
       "      <td>Ulsan National Institute of Science and Techno...</td>\n",
       "      <td>468;468</td>\n",
       "      <td>8</td>\n",
       "      <td>1052;727</td>\n",
       "      <td>86;88</td>\n",
       "      <td>16;15</td>\n",
       "      <td>False</td>\n",
       "      <td>1052.0</td>\n",
       "      <td>86.0</td>\n",
       "      <td>16.0</td>\n",
       "      <td>0.966675</td>\n",
       "      <td>0.0</td>\n",
       "      <td>0.0</td>\n",
       "    </tr>\n",
       "    <tr>\n",
       "      <th>2</th>\n",
       "      <td>2018</td>\n",
       "      <td>Towards Neural Phrase-based Machine Translation</td>\n",
       "      <td>Po-Sen Huang;Chong Wang;Sitao Huang;Dengyong Z...</td>\n",
       "      <td>6.666667</td>\n",
       "      <td>Accept</td>\n",
       "      <td>Microsoft;Google;University of Illinois, Urban...</td>\n",
       "      <td>-1;-1;3;-1;-1</td>\n",
       "      <td>3;2</td>\n",
       "      <td>1718;17889;161;8800;20766</td>\n",
       "      <td>59;1045;17;78;409</td>\n",
       "      <td>17;54;7;33;63</td>\n",
       "      <td>True</td>\n",
       "      <td>5259.0</td>\n",
       "      <td>68.5</td>\n",
       "      <td>25.0</td>\n",
       "      <td>1.714100</td>\n",
       "      <td>1.0</td>\n",
       "      <td>0.0</td>\n",
       "    </tr>\n",
       "    <tr>\n",
       "      <th>3</th>\n",
       "      <td>2018</td>\n",
       "      <td>Interactive Grounded Language Acquisition and ...</td>\n",
       "      <td>Haonan Yu;Haichao Zhang;Wei Xu</td>\n",
       "      <td>6.333333</td>\n",
       "      <td>Accept</td>\n",
       "      <td>Baidu;Baidu;Baidu</td>\n",
       "      <td>-1;-1;-1</td>\n",
       "      <td>6;8</td>\n",
       "      <td>890;1382;9553</td>\n",
       "      <td>37;63;557</td>\n",
       "      <td>12;20;44</td>\n",
       "      <td>False</td>\n",
       "      <td>1136.0</td>\n",
       "      <td>50.0</td>\n",
       "      <td>16.0</td>\n",
       "      <td>1.258896</td>\n",
       "      <td>0.0</td>\n",
       "      <td>0.0</td>\n",
       "    </tr>\n",
       "    <tr>\n",
       "      <th>4</th>\n",
       "      <td>2018</td>\n",
       "      <td>A Boo(n) for Evaluating Architecture Performance</td>\n",
       "      <td>Ondrej Bajgar;Rudolf Kadlec;and Jan Kleindienst</td>\n",
       "      <td>4.666667</td>\n",
       "      <td>Reject</td>\n",
       "      <td>;International Business Machines;International...</td>\n",
       "      <td>-1;-1;-1</td>\n",
       "      <td>0</td>\n",
       "      <td>366;678;658</td>\n",
       "      <td>10;40;76</td>\n",
       "      <td>5;11;9</td>\n",
       "      <td>False</td>\n",
       "      <td>522.0</td>\n",
       "      <td>25.0</td>\n",
       "      <td>8.0</td>\n",
       "      <td>0.984882</td>\n",
       "      <td>0.0</td>\n",
       "      <td>0.0</td>\n",
       "    </tr>\n",
       "    <tr>\n",
       "      <th>...</th>\n",
       "      <td>...</td>\n",
       "      <td>...</td>\n",
       "      <td>...</td>\n",
       "      <td>...</td>\n",
       "      <td>...</td>\n",
       "      <td>...</td>\n",
       "      <td>...</td>\n",
       "      <td>...</td>\n",
       "      <td>...</td>\n",
       "      <td>...</td>\n",
       "      <td>...</td>\n",
       "      <td>...</td>\n",
       "      <td>...</td>\n",
       "      <td>...</td>\n",
       "      <td>...</td>\n",
       "      <td>...</td>\n",
       "      <td>...</td>\n",
       "      <td>...</td>\n",
       "    </tr>\n",
       "    <tr>\n",
       "      <th>4251</th>\n",
       "      <td>2020</td>\n",
       "      <td>A Finite-Time Analysis of  Q-Learning with Neu...</td>\n",
       "      <td>Pan Xu;Quanquan Gu</td>\n",
       "      <td>5.000000</td>\n",
       "      <td>Reject</td>\n",
       "      <td>University of California, Los Angeles;Universi...</td>\n",
       "      <td>20;20</td>\n",
       "      <td>1;9</td>\n",
       "      <td>295;3895</td>\n",
       "      <td>31;174</td>\n",
       "      <td>10;34</td>\n",
       "      <td>False</td>\n",
       "      <td>295.0</td>\n",
       "      <td>31.0</td>\n",
       "      <td>10.0</td>\n",
       "      <td>1.368938</td>\n",
       "      <td>0.0</td>\n",
       "      <td>0.0</td>\n",
       "    </tr>\n",
       "    <tr>\n",
       "      <th>4252</th>\n",
       "      <td>2020</td>\n",
       "      <td>SCELMo: Source Code Embeddings from Language M...</td>\n",
       "      <td>Rafael - Michael Karampatsis;Charles Sutton</td>\n",
       "      <td>4.666667</td>\n",
       "      <td>Reject</td>\n",
       "      <td>University of Edinburgh;Google</td>\n",
       "      <td>33;-1</td>\n",
       "      <td>3</td>\n",
       "      <td>0;50</td>\n",
       "      <td>1;18</td>\n",
       "      <td>0;3</td>\n",
       "      <td>False</td>\n",
       "      <td>0.0</td>\n",
       "      <td>1.0</td>\n",
       "      <td>0.0</td>\n",
       "      <td>0.577236</td>\n",
       "      <td>1.0</td>\n",
       "      <td>0.0</td>\n",
       "    </tr>\n",
       "    <tr>\n",
       "      <th>4253</th>\n",
       "      <td>2020</td>\n",
       "      <td>GraphMix: Regularized Training of Graph Neural...</td>\n",
       "      <td>Vikas Verma;Meng Qu;Alex Lamb;Yoshua Bengio;Ju...</td>\n",
       "      <td>4.000000</td>\n",
       "      <td>Reject</td>\n",
       "      <td>;University of Montreal;University of Montreal...</td>\n",
       "      <td>-1;128;128;128;143;128</td>\n",
       "      <td>10</td>\n",
       "      <td>202;504;2136;208566;3645;346</td>\n",
       "      <td>25;40;22;807;127;94</td>\n",
       "      <td>4;5;8;147;24;8</td>\n",
       "      <td>True</td>\n",
       "      <td>2136.0</td>\n",
       "      <td>40.0</td>\n",
       "      <td>8.0</td>\n",
       "      <td>0.670325</td>\n",
       "      <td>0.0</td>\n",
       "      <td>0.0</td>\n",
       "    </tr>\n",
       "    <tr>\n",
       "      <th>4254</th>\n",
       "      <td>2020</td>\n",
       "      <td>Neural networks with motivation</td>\n",
       "      <td>Sergey A. Shuvaev;Ngoc B. Tran;Marcus Stephens...</td>\n",
       "      <td>2.333333</td>\n",
       "      <td>Reject</td>\n",
       "      <td>Cold Spring Harbor Laboratory;Cold Spring Harb...</td>\n",
       "      <td>-1;-1;-1;-1;-1</td>\n",
       "      <td>5</td>\n",
       "      <td>16;94;563;997;1816</td>\n",
       "      <td>8;12;14;67;83</td>\n",
       "      <td>3;3;9;9;16</td>\n",
       "      <td>True</td>\n",
       "      <td>328.5</td>\n",
       "      <td>13.0</td>\n",
       "      <td>6.0</td>\n",
       "      <td>1.359447</td>\n",
       "      <td>0.0</td>\n",
       "      <td>0.0</td>\n",
       "    </tr>\n",
       "    <tr>\n",
       "      <th>4255</th>\n",
       "      <td>2020</td>\n",
       "      <td>Measuring causal influence with back-to-back r...</td>\n",
       "      <td>Jean-Remi King;Francois Charton;Maxime Oquab;D...</td>\n",
       "      <td>4.000000</td>\n",
       "      <td>Reject</td>\n",
       "      <td>Facebook;Facebook;Facebook;Facebook</td>\n",
       "      <td>-1;-1;-1;-1</td>\n",
       "      <td>0</td>\n",
       "      <td>1273;1;2971;2483</td>\n",
       "      <td>45;14;20;46</td>\n",
       "      <td>16;1;7;19</td>\n",
       "      <td>False</td>\n",
       "      <td>1273.0</td>\n",
       "      <td>20.0</td>\n",
       "      <td>7.0</td>\n",
       "      <td>1.740191</td>\n",
       "      <td>1.0</td>\n",
       "      <td>0.0</td>\n",
       "    </tr>\n",
       "  </tbody>\n",
       "</table>\n",
       "<p>4256 rows × 18 columns</p>\n",
       "</div>"
      ],
      "text/plain": [
       "      year                                              paper  \\\n",
       "0     2018  Certifying Some Distributional Robustness with...   \n",
       "1     2018  Parametric Information Bottleneck to Optimize ...   \n",
       "2     2018    Towards Neural Phrase-based Machine Translation   \n",
       "3     2018  Interactive Grounded Language Acquisition and ...   \n",
       "4     2018   A Boo(n) for Evaluating Architecture Performance   \n",
       "...    ...                                                ...   \n",
       "4251  2020  A Finite-Time Analysis of  Q-Learning with Neu...   \n",
       "4252  2020  SCELMo: Source Code Embeddings from Language M...   \n",
       "4253  2020  GraphMix: Regularized Training of Graph Neural...   \n",
       "4254  2020                    Neural networks with motivation   \n",
       "4255  2020  Measuring causal influence with back-to-back r...   \n",
       "\n",
       "                                                authors   ratings decisions  \\\n",
       "0               Aman Sinha;Hongseok Namkoong;John Duchi  9.000000    Accept   \n",
       "1                           Thanh T. Nguyen;Jaesik Choi  4.666667    Reject   \n",
       "2     Po-Sen Huang;Chong Wang;Sitao Huang;Dengyong Z...  6.666667    Accept   \n",
       "3                        Haonan Yu;Haichao Zhang;Wei Xu  6.333333    Accept   \n",
       "4       Ondrej Bajgar;Rudolf Kadlec;and Jan Kleindienst  4.666667    Reject   \n",
       "...                                                 ...       ...       ...   \n",
       "4251                                 Pan Xu;Quanquan Gu  5.000000    Reject   \n",
       "4252        Rafael - Michael Karampatsis;Charles Sutton  4.666667    Reject   \n",
       "4253  Vikas Verma;Meng Qu;Alex Lamb;Yoshua Bengio;Ju...  4.000000    Reject   \n",
       "4254  Sergey A. Shuvaev;Ngoc B. Tran;Marcus Stephens...  2.333333    Reject   \n",
       "4255  Jean-Remi King;Francois Charton;Maxime Oquab;D...  4.000000    Reject   \n",
       "\n",
       "                                            institution  \\\n",
       "0     Stanford University;Stanford University;Stanfo...   \n",
       "1     Ulsan National Institute of Science and Techno...   \n",
       "2     Microsoft;Google;University of Illinois, Urban...   \n",
       "3                                     Baidu;Baidu;Baidu   \n",
       "4     ;International Business Machines;International...   \n",
       "...                                                 ...   \n",
       "4251  University of California, Los Angeles;Universi...   \n",
       "4252                     University of Edinburgh;Google   \n",
       "4253  ;University of Montreal;University of Montreal...   \n",
       "4254  Cold Spring Harbor Laboratory;Cold Spring Harb...   \n",
       "4255                Facebook;Facebook;Facebook;Facebook   \n",
       "\n",
       "                   csranking categories             authors_citations  \\\n",
       "0                      4;4;4          4                 655;904;12908   \n",
       "1                    468;468          8                      1052;727   \n",
       "2              -1;-1;3;-1;-1        3;2     1718;17889;161;8800;20766   \n",
       "3                   -1;-1;-1        6;8                 890;1382;9553   \n",
       "4                   -1;-1;-1          0                   366;678;658   \n",
       "...                      ...        ...                           ...   \n",
       "4251                   20;20        1;9                      295;3895   \n",
       "4252                   33;-1          3                          0;50   \n",
       "4253  -1;128;128;128;143;128         10  202;504;2136;208566;3645;346   \n",
       "4254          -1;-1;-1;-1;-1          5            16;94;563;997;1816   \n",
       "4255             -1;-1;-1;-1          0              1273;1;2971;2483   \n",
       "\n",
       "     authors_publications  authors_hindex  arxiv  authors_citations_median  \\\n",
       "0               42;19;162         8;10;42   True                     779.5   \n",
       "1                   86;88           16;15  False                    1052.0   \n",
       "2       59;1045;17;78;409   17;54;7;33;63   True                    5259.0   \n",
       "3               37;63;557        12;20;44  False                    1136.0   \n",
       "4                10;40;76          5;11;9  False                     522.0   \n",
       "...                   ...             ...    ...                       ...   \n",
       "4251               31;174           10;34  False                     295.0   \n",
       "4252                 1;18             0;3  False                       0.0   \n",
       "4253  25;40;22;807;127;94  4;5;8;147;24;8   True                    2136.0   \n",
       "4254        8;12;14;67;83      3;3;9;9;16   True                     328.5   \n",
       "4255          45;14;20;46       16;1;7;19  False                    1273.0   \n",
       "\n",
       "      authors_publications_median  authors_hindex_median  reputation  \\\n",
       "0                            30.5                    9.0    1.906761   \n",
       "1                            86.0                   16.0    0.966675   \n",
       "2                            68.5                   25.0    1.714100   \n",
       "3                            50.0                   16.0    1.258896   \n",
       "4                            25.0                    8.0    0.984882   \n",
       "...                           ...                    ...         ...   \n",
       "4251                         31.0                   10.0    1.368938   \n",
       "4252                          1.0                    0.0    0.577236   \n",
       "4253                         40.0                    8.0    0.670325   \n",
       "4254                         13.0                    6.0    1.359447   \n",
       "4255                         20.0                    7.0    1.740191   \n",
       "\n",
       "      has_top_company  has_top_institution  \n",
       "0                 0.0                  1.0  \n",
       "1                 0.0                  0.0  \n",
       "2                 1.0                  0.0  \n",
       "3                 0.0                  0.0  \n",
       "4                 0.0                  0.0  \n",
       "...               ...                  ...  \n",
       "4251              0.0                  0.0  \n",
       "4252              1.0                  0.0  \n",
       "4253              0.0                  0.0  \n",
       "4254              0.0                  0.0  \n",
       "4255              1.0                  0.0  \n",
       "\n",
       "[4256 rows x 18 columns]"
      ]
     },
     "execution_count": 1,
     "metadata": {},
     "output_type": "execute_result"
    }
   ],
   "source": [
    "### Your code here! ###\n",
    "import pandas as pd\n",
    "import numpy as np\n",
    "\n",
    "df = pd.read_csv(\"data\\dataset_final.csv\")\n",
    "\n",
    "authors, authors_appearances = np.unique(';'.join(list(df.authors.values)).replace('*','').split(';'), return_counts=True)\n",
    "df = df.reindex(columns = df.columns.tolist() + ['authors_citations_median', 'authors_publications_median', \\\n",
    "                                                 'authors_hindex_median'])\n",
    "for row in df.itertuples(index=True):\n",
    "    row_authors = row.authors.replace('*','').split(';')\n",
    "    row_authors_citations = np.array(row.authors_citations.split(';')).astype(np.float)\n",
    "    row_authors_citations = np.delete(row_authors_citations, [-1]) # remove -1 values\n",
    "    row_authors_publications = np.array(row.authors_publications.split(';')).astype(np.float)\n",
    "    row_authors_publications = np.delete(row_authors_publications, [-1]) # remove -1 values\n",
    "    row_authors_h_index = np.array(row.authors_hindex.split(';')).astype(np.float)\n",
    "    row_authors_h_index = np.delete(row_authors_h_index, [-1]) # remove -1 values\n",
    "    \n",
    "    if len(row_authors_citations) > 0:\n",
    "        df.at[row.Index, 'authors_citations_median'] = np.median(row_authors_citations)\n",
    "    else:\n",
    "        df.at[row.Index, 'authors_citations_median'] = 0\n",
    "    if len(row_authors_publications) > 0:\n",
    "        df.at[row.Index, 'authors_publications_median'] = np.median(row_authors_publications)\n",
    "    else:\n",
    "        df.at[row.Index, 'authors_publications_median'] = 1\n",
    "    if len(row_authors_h_index) > 0:\n",
    "        df.at[row.Index, 'authors_hindex_median'] = np.median(row_authors_h_index)\n",
    "    else:\n",
    "        df.at[row.Index, 'authors_hindex_median'] = 0\n",
    "        \n",
    "    \n",
    "'''authors, authors_appearances = np.unique(';'.join(list(df.authors.values)).replace('*','').split(';'), return_counts=True)\n",
    "authors_frequencies = dict(zip(authors, authors_appearances)) \n",
    "authors_citations_values = {author : [] for author in authors}\n",
    "authors_publications_values = {author : [] for author in authors}\n",
    "authors_h_index_values = {author : [] for author in authors}\n",
    "\n",
    "only_minus_one_authors_citations = set(authors)\n",
    "only_minus_one_authors_publications = set(authors)\n",
    "only_minus_one_authors_hindex = set(authors)\n",
    "\n",
    "for row in df.itertuples(index=True):\n",
    "    row_authors = row.authors.replace('*','').split(';')\n",
    "    row_authors_citations = row.authors_citations.split(';')\n",
    "    row_authors_publications = row.authors_publications.split(';')\n",
    "    row_authors_h_index = row.authors_hindex.split(';')\n",
    "    for (i, author) in enumerate(row_authors):\n",
    "        if i < len(row_authors_citations) and row_authors_citations[i] != '-1':\n",
    "                if author in only_minus_one_authors_citations:\n",
    "                    only_minus_one_authors_citations.remove(author)\n",
    "                authors_citations_values[author].append(row_authors_citations[i])\n",
    "        if i < len(row_authors_publications) and row_authors_publications[i] != '-1':\n",
    "            if author in only_minus_one_authors_publications:\n",
    "                only_minus_one_authors_publications.remove(author)\n",
    "            authors_publications_values[author].append(row_authors_publications[i])\n",
    "        if i < len(row_authors_h_index) and row_authors_h_index[i] != '-1':\n",
    "            if author in only_minus_one_authors_hindex:\n",
    "                only_minus_one_authors_hindex.remove(author)\n",
    "            authors_h_index_values[author].append(row_authors_h_index[i])\n",
    "\n",
    "for author in only_minus_one_authors_citations:\n",
    "    authors_citations_values[author].append(0)\n",
    "\n",
    "for author in only_minus_one_authors_publications:\n",
    "    authors_publications_values[author].append(authors_frequencies[author])\n",
    "\n",
    "for author in only_minus_one_authors_hindex:\n",
    "    authors_h_index_values[author].append(0)\n",
    "\n",
    "\n",
    "df = df.reindex(columns = df.columns.tolist() + ['authors_citations_median', 'authors_publications_median', \\\n",
    "                                                 'authors_hindex_median'])\n",
    "df = df.astype({'authors_citations_median': str, 'authors_publications_median': str, 'authors_hindex_median': str})             \n",
    "authors_citations_median = {author: np.median(np.array(values).astype(np.int)).astype(np.int) \\\n",
    "                              for author, values in authors_citations_values.items()}\n",
    "authors_publications_median = {author: np.median(np.array(values).astype(np.int)).astype(np.int) \\\n",
    "                              for author, values in authors_publications_values.items()}\n",
    "authors_h_index_values = {author: np.median(np.array(values).astype(np.int)).astype(np.int) \\\n",
    "                              for author, values in authors_h_index_values.items()}\n",
    "            \n",
    "\n",
    "for row in df.itertuples(index=True):\n",
    "    row_authors = row.authors.replace('*','').split(';')\n",
    "    buffer_citations_medians = []\n",
    "    buffer_publications_medians = []\n",
    "    buffer_hindex_medians = []\n",
    "    \n",
    "    for (i, author) in enumerate(row_authors):\n",
    "        buffer_citations_medians.append(str(authors_citations_median[author]))\n",
    "        buffer_publications_medians.append(str(authors_publications_median[author]))\n",
    "        buffer_hindex_medians.append(str(authors_h_index_values[author]))\n",
    "        \n",
    "    df.at[row.Index, 'authors_citations_median'] = ';'.join(buffer_citations_medians)\n",
    "    df.at[row.Index, 'authors_publications_median'] = ';'.join(buffer_publications_medians)\n",
    "    df.at[row.Index, 'authors_hindex_median'] = ';'.join(buffer_hindex_medians)'''\n",
    "    \n",
    "\n",
    "df = df.reindex(columns = df.columns.tolist() + ['reputation'])\n",
    "    \n",
    "for row in df.itertuples(index=True):\n",
    "    last_author = row.authors.replace('*','').split(';')[-1]\n",
    "    last_author_citations = float(row.authors_citations.split(';')[-1])\n",
    "    last_author_publications = float(row.authors_publications.split(';')[-1])\n",
    "    df.at[row.Index, 'reputation'] = np.log10((last_author_citations/last_author_publications) + 1)\n",
    "    \n",
    "\n",
    "\n",
    "df = df.reindex(columns = df.columns.tolist() + ['has_top_company', 'has_top_institution'])\n",
    "\n",
    "top_companies = set([\"Facebook\", \"Google\", \"Microsoft\", \"Deepmind\"])\n",
    "top_institutions = set([\"Carnegie Mellon University\", \"Massachusetts Institute of Technology\",\n",
    "                        \"Univ. of Illinois at Urbana-Champaign\", \"Stanford University\",\n",
    "                        \"University of California - Berkeley\", \"University of California - San Diego\",\n",
    "                        \"University of Washington\", \"Cornell University\", \"University of Michigan\",\n",
    "                        \"University of Maryland - College Park\"])\n",
    "\n",
    "for row in df.itertuples(index=True):\n",
    "    institutions = set(row.institution.split(';'))\n",
    "    df.at[row.Index, 'has_top_company'] = float(len(institutions.intersection(top_companies)) > 0)\n",
    "    df.at[row.Index, 'has_top_institution'] = float(len(institutions.intersection(top_institutions)) > 0)\n",
    "        \n",
    "df"
   ]
  },
  {
   "cell_type": "markdown",
   "metadata": {},
   "source": [
    "Minus one values are ignored when computing the median. Cases where only minus one where present where imputed to 0 for the citations, 1 for the publications and 0 for the 0 for the hindex. This corner case does not seem to happen very often so that a more sophisticated imputation such has regression would not make much difference. One other possibility could have been to remove the row."
   ]
  },
  {
   "cell_type": "markdown",
   "metadata": {},
   "source": [
    "### Task 1.2\n",
    "\n",
    "Now that you have cleaned up your data, your next task is to divide your data into a training set and a testing set. You should do this in two ways:\n",
    "\n",
    "1. First, do it randomly. Split the data into a training set (70%) and a testing set (30%). We refer to these as \"random split\" in the subsequent tasks.\n",
    "2. Second, do it longitudinally. Use the data from 2018 and 2019 for the training set, and the data from 2020 as the testing set. We refer to these as \"longitudinal split\" in the subsequent tasks.\n"
   ]
  },
  {
   "cell_type": "code",
   "execution_count": 2,
   "metadata": {},
   "outputs": [],
   "source": [
    "from sklearn.model_selection import train_test_split\n",
    "\n",
    "df_train_random, df_test_random = train_test_split(df, test_size=0.3, shuffle=True, random_state=42)\n",
    "\n",
    "df_train_date = df.loc[(df.year == 2018) | (df.year == 2019)]\n",
    "df_test_date = df.loc[df.year == 2020]"
   ]
  },
  {
   "cell_type": "markdown",
   "metadata": {},
   "source": [
    "### Task 1.3\n",
    "\n",
    "Build a Linear Regression model (use [sklearn](https://scikit-learn.org/stable/)) that predicts the score of a paper (which is in the variable ratings in the dataframe). Train it and test it using the split you previously defined. Your model should use as features:\n",
    "- Median values for the number of author citations, publications and h-indexes, as calculated in Task 1.1.1.\n",
    "\n",
    "- `reputation` of the last author, as calculated in Task 1.1.2.\n",
    "\n",
    "For the two scenarios above (random split and longitudinal split):\n",
    "\n",
    "1. Report the model $R^2$ in each case (for the testing set).\n",
    "2. **Discuss:** Hypothesize a reason why the results are different. Additionally, interpret the $R^2$ value for the longitudinal split. How can it be negative?\n",
    "3. **From now onwards (in this task and the following ones), consider only the random split.** For a given entry $X$ your model outputs a predicted score $Y'$. The difference between the real score $Y$ and the predicted score $Y'$ is called the \"residual\". Plot the distribution of your residuals for the test set. Using this distribution, estimate what is the probability that your prediction is off by more than 2-points? Provide bootstrapped confidence intervals for your answer.\n",
    "4. **Discuss:** Identify three additional features that are already computed in your dataframe and that could boost your model's predictive performance. You are not allowed to use the variable `decisions` as an input here. Before running any experiments, discuss why each of these features might add valuable information to your model.\n",
    "5. Report the $R^2$ (for the test set) for a newly trained model with these additional features. Please note that you do not need to improve the model performance to be successful in this task!\n",
    "\n",
    "**Hint**: [Metrics!](https://scikit-learn.org/stable/modules/classes.html#sklearn-metrics-metrics)"
   ]
  },
  {
   "cell_type": "code",
   "execution_count": 3,
   "metadata": {},
   "outputs": [
    {
     "name": "stdout",
     "output_type": "stream",
     "text": [
      "R2 score with random split: 0.11\n",
      "Mean squared error with random split: 2.02\n",
      "R2 score with date split: 0.04\n",
      "Mean squared error with random split: 2.60\n"
     ]
    }
   ],
   "source": [
    "# R squared\n",
    "\n",
    "import matplotlib.pyplot as plt\n",
    "from sklearn.linear_model import LinearRegression\n",
    "from sklearn.metrics import explained_variance_score\n",
    "from sklearn.metrics import mean_squared_error\n",
    "\n",
    "predictive_features = ['authors_citations_median', 'authors_publications_median', 'authors_hindex_median', 'reputation']\n",
    "predicted_feature = ['ratings']\n",
    "\n",
    "reg_random = LinearRegression().fit(df_train_random[predictive_features], df_train_random[predicted_feature])\n",
    "y_pred_random = reg_random.predict(df_test_random[predictive_features])\n",
    "\n",
    "print(\"R2 score with random split: {:.2f}\".format(explained_variance_score(df_test_random[predicted_feature], y_pred_random)))\n",
    "print(\"Mean squared error with random split: {:.2f}\".format(mean_squared_error(df_test_random[predicted_feature], y_pred_random)))\n",
    "\n",
    "reg_date = LinearRegression().fit(df_train_date[predictive_features], df_train_date[predicted_feature])\n",
    "y_pred_date = reg_random.predict(df_test_date[predictive_features])\n",
    "\n",
    "print(\"R2 score with date split: {:.2f}\".format(explained_variance_score(df_test_date[predicted_feature], y_pred_date)))\n",
    "print(\"Mean squared error with random split: {:.2f}\".format(mean_squared_error(df_test_date[predicted_feature], y_pred_date)))\n",
    "\n"
   ]
  },
  {
   "cell_type": "markdown",
   "metadata": {},
   "source": [
    "R score is not negative. There must be an issue. Maybe it is related to the previous point (missing values imputation). "
   ]
  },
  {
   "cell_type": "code",
   "execution_count": 4,
   "metadata": {},
   "outputs": [
    {
     "data": {
      "image/png": "[encoded data removed]",
      "text/plain": [
       "<Figure size 432x288 with 1 Axes>"
      ]
     },
     "metadata": {
      "needs_background": "light"
     },
     "output_type": "display_data"
    },
    {
     "name": "stdout",
     "output_type": "stream",
     "text": [
      "Boostraped estimate of the probability of 'residuals lower than 2':\n",
      "   Probability with 95% confidence interval [0.8089 ; 0.8466] and median 0.8273\n"
     ]
    }
   ],
   "source": [
    "# Distribution of residuals\n",
    "\n",
    "# this part is wrong, go below\n",
    "'''n_bootstraps = 1000\n",
    "test_size = 0.2\n",
    "\n",
    "def bootstrap(df):\n",
    "    indices = np.array(range(df.shape[0]))\n",
    "    bootstraped_indices = np.random.choice(indices, df.shape[0])\n",
    "    return df.iloc[bootstraped_indices, :]\n",
    "\n",
    "def boostraped_residuals_histogram(df, predictive_features, predicted_feature, n_bootstraps, test_size, random_state=0):\n",
    "    residuals_buffer = []\n",
    "    \n",
    "    for i in range(n_bootstraps):\n",
    "        bootstraped_df = bootstrap(df)\n",
    "        bootstraped_df_train, bootstraped_df_test = train_test_split(bootstraped_df, test_size=test_size, shuffle=True, \\\n",
    "                                                                   random_state=random_state+i)\n",
    "        y_pred = reg_random.predict(bootstraped_df_test[predictive_features])\n",
    "        y_true = bootstraped_df_test[predicted_feature].values\n",
    "        residuals_buffer.append(y_pred - y_true)\n",
    "        \n",
    "    all_residuals = np.vstack(residuals_buffer)\n",
    "    min_residual = np.min(all_residuals)\n",
    "    max_residual = np.max(all_residuals)\n",
    "    \n",
    "    histograms_buffer = []\n",
    "    alpha_confidence = 0.05\n",
    "    n_bins = 50\n",
    "    for i in range(n_bootstraps):\n",
    "        hist, bins = np.histogram(residuals_buffer[i], bins=n_bins, range=(min_residual, max_residual))\n",
    "        histograms_buffer.append(hist)\n",
    "    \n",
    "    histograms_stack = np.vstack(histograms_buffer)\n",
    "    \n",
    "    lower_percentiles = np.percentile(histograms_stack, 100*(alpha_confidence/2), axis=0)\n",
    "    higher_percentiles = np.percentile(histograms_stack, 100*(1-alpha_confidence/2), axis=0)\n",
    "    medians = np.percentile(histograms_stack, 0.5, axis=0)\n",
    "    \n",
    "    center = (bins[:-1] + bins[1:]) / 2\n",
    "    print(lower_percentiles)\n",
    "    plt.bar(center, medians, align='center', yerr=[lower_percentiles, higher_percentiles])\n",
    "    plt.show()\n",
    "    \n",
    "    \n",
    "    #return residuals\n",
    "        \n",
    "        \n",
    "        \n",
    "boostraped_residuals_histogram(df, predictive_features, predicted_feature, n_boostraps, test_size)'''\n",
    "\n",
    "\n",
    "residuals = y_pred_random - df_test_random[predicted_feature].values\n",
    "\n",
    "hist, bins = np.histogram(residuals, bins=50)\n",
    "center = (bins[:-1] + bins[1:]) / 2\n",
    "plt.bar(center, hist, align='center')\n",
    "plt.title(\"Histogram of the residuals\")\n",
    "plt.xlabel(\"$y_{pred}-y_{test}$\")\n",
    "plt.ylabel(\"Counts\")\n",
    "plt.show()\n",
    "\n",
    "n_bootstraps = 100\n",
    "\n",
    "def bootstrap(*arrs, random_state):\n",
    "    indices = np.array(range(arrs[0].shape[0]))\n",
    "    bootstraped_indices = random_state.choice(indices, arrs[0].shape[0])\n",
    "    if len(arrs[0].shape) == 2:\n",
    "        return (arr[bootstraped_indices, :] for arr in arrs)\n",
    "    else:\n",
    "        return (arr[bootstraped_indices] for arr in arrs)\n",
    "        \n",
    "\n",
    "def bootstrap_prob_residual(residuals, n_bootstraps, residuals_less_than, alpha_confidence=0.05, random_seed=0):\n",
    "    random_state = np.random.RandomState(random_seed)\n",
    "    \n",
    "    probabilities = []\n",
    "    for i in range(n_bootstraps):\n",
    "        bootstraped_residuals, = bootstrap(residuals, random_state=random_state)\n",
    "        probabilities.append(np.sum(np.abs(bootstraped_residuals) <= residuals_less_than)/len(bootstraped_residuals))\n",
    "        \n",
    "    lower_quantile = np.percentile(probabilities, 100*(alpha_confidence/2))\n",
    "    median = np.percentile(probabilities, 50)\n",
    "    higher_quantile = np.percentile(probabilities, 100*(1-alpha_confidence/2))\n",
    "        \n",
    "    return lower_quantile, median, higher_quantile\n",
    "\n",
    "    \n",
    "lower_quantile, median, higher_quantile = bootstrap_prob_residual(residuals, n_bootstraps, residuals_less_than=2, alpha_confidence=0.05, random_seed=0)\n",
    "\n",
    "print(\"Boostraped estimate of the probability of 'residuals lower than 2':\")\n",
    "print(\"   Probability with 95% confidence interval [{:.4f} ; {:.4f}] and median {:.4f}\".format(lower_quantile, higher_quantile, median))\n",
    "\n",
    "    \n"
   ]
  },
  {
   "cell_type": "markdown",
   "metadata": {},
   "source": [
    "- The arxiv boolean variable could help predicting the ratings. Indeed, authors publishing their paper on this platform before submitting have a chance to get opinions and advises. These might lead to modifications that could help the paper getting a better rate.\n",
    "- The booleans has_top_institution and has_top_company could help as well. Even though, the reviewers should not be aware of these. The authors of the rated paper do not belong to a top institution/company for no reason. It is reasonable to expect them to produce good content and ready to be published content since they should have experience.\n"
   ]
  },
  {
   "cell_type": "code",
   "execution_count": 5,
   "metadata": {},
   "outputs": [
    {
     "name": "stdout",
     "output_type": "stream",
     "text": [
      "R2 score with random split: 0.13\n",
      "Mean squared error with random split: 1.97\n",
      "Boostraped estimate of the probability of 'residuals lower than 2':\n",
      "   Probability with 95% confidence interval [0.8159 ; 0.8512] and median 0.8324\n"
     ]
    }
   ],
   "source": [
    "# Let's add these variables\n",
    "\n",
    "# We transform \"arxiv\" into a numeric variable\n",
    "df[\"arxiv\"] = df[\"arxiv\"].astype(int)\n",
    "predictive_features = ['authors_citations_median', 'authors_publications_median', 'authors_hindex_median', 'reputation', \n",
    "                        \"arxiv\", \"has_top_institution\", \"has_top_company\"]\n",
    "predicted_feature = ['ratings']\n",
    "\n",
    "reg_random = LinearRegression().fit(df_train_random[predictive_features], df_train_random[predicted_feature])\n",
    "y_pred_random = reg_random.predict(df_test_random[predictive_features])\n",
    "\n",
    "print(\"R2 score with random split: {:.2f}\".format(explained_variance_score(df_test_random[predicted_feature], y_pred_random)))\n",
    "print(\"Mean squared error with random split: {:.2f}\".format(mean_squared_error(df_test_random[predicted_feature], y_pred_random)))\n",
    "\n",
    "\n",
    "residuals = y_pred_random - df_test_random[predicted_feature].values\n",
    "lower_quantile, median, higher_quantile = bootstrap_prob_residual(residuals, n_bootstraps, residuals_less_than=2, alpha_confidence=0.05, random_seed=0)\n",
    "\n",
    "print(\"Boostraped estimate of the probability of 'residuals lower than 2':\")\n",
    "print(\"   Probability with 95% confidence interval [{:.4f} ; {:.4f}] and median {:.4f}\".format(lower_quantile, higher_quantile, median))\n"
   ]
  },
  {
   "cell_type": "markdown",
   "metadata": {},
   "source": [
    "There is a slight improvement in all metrics."
   ]
  },
  {
   "cell_type": "markdown",
   "metadata": {},
   "source": [
    "### Task 1.4\n",
    "\n",
    "Experiment with training a different regressor, a [Gradient Boosting Regressor](https://scikit-learn.org/stable/modules/ensemble.html?highlight=xgboost#gradient-boosting). This regressor is analogous to the Gradient Boosting Classifier that you have seen in class. This model performs extremely well for a variety of tasks and is often used in machine learning competitions for tabular data (e.g., on [Kaggle](www.kaggle.com)). You must:\n",
    "\n",
    "1. Train a Gradient Boosting Regressor without specifying any parameters, e.g. `GradientBoostingRegressor().fit(X, y)`, and report its $R^2$ on the testing set. Your model should again use as features:\n",
    "    - Median values for the number of author citations, publications and h-indexes as calculated in Task 1.1.1.\n",
    "    - `reputation` of the last author, as calculated in Task 1.1.2.\n",
    "2. Create an additional feature called $crazy$, which is derived as follows. If the score  of the paper, $ratings$, is bigger than 4.96, then $crazy = 9 - ratings$, otherwise, $crazy = - ratings$. Train a Gradient Boosting Regressor to predict paper scores using only $crazy$ as a feature. Additionally, train a Linear Regression model to predict paper scores using only $crazy$ as a feature. Report the $R^2$ in the testing set.\n",
    "3. **Discuss:** Why does the Gradient Boosting Regressor perform so much better?"
   ]
  },
  {
   "cell_type": "code",
   "execution_count": 6,
   "metadata": {},
   "outputs": [
    {
     "name": "stdout",
     "output_type": "stream",
     "text": [
      "R2 score with random split: 0.08\n",
      "Mean squared error with random split: 2.09\n"
     ]
    }
   ],
   "source": [
    "from sklearn.ensemble import GradientBoostingRegressor\n",
    "\n",
    "predictive_features = ['authors_citations_median', 'authors_publications_median', 'authors_hindex_median', 'reputation']\n",
    "predicted_feature = ['ratings']\n",
    "\n",
    "grad_reg = GradientBoostingRegressor(n_estimators=50, learning_rate=0.01).fit(df_train_random[predictive_features], df_train_random[predicted_feature].values.ravel())\n",
    "\n",
    "y_pred_random = grad_reg.predict(df_test_random[predictive_features])\n",
    "\n",
    "print(\"R2 score with random split: {:.2f}\".format(explained_variance_score(df_test_random[predicted_feature], y_pred_random)))\n",
    "print(\"Mean squared error with random split: {:.2f}\".format(mean_squared_error(df_test_random[predicted_feature], y_pred_random)))\n",
    "\n"
   ]
  },
  {
   "cell_type": "code",
   "execution_count": 7,
   "metadata": {},
   "outputs": [],
   "source": [
    "# \"Crazy\" feature\n",
    "\n",
    "df = df.reindex(columns = df.columns.tolist() + ['crazy'])\n",
    "\n",
    "for row in df.itertuples(index=True):\n",
    "    if row.ratings > 4.96:\n",
    "        df.at[row.Index, 'crazy'] = 9 - row.ratings\n",
    "    else:\n",
    "        df.at[row.Index, 'crazy'] = - row.ratings\n",
    "        "
   ]
  },
  {
   "cell_type": "code",
   "execution_count": 8,
   "metadata": {},
   "outputs": [
    {
     "name": "stdout",
     "output_type": "stream",
     "text": [
      "R2 score with random split: 1.00\n",
      "Mean squared error with random split: 0.00\n",
      "R2 score with random split: 0.41\n",
      "Mean squared error with random split: 1.33\n"
     ]
    }
   ],
   "source": [
    "df_train_random, df_test_random = train_test_split(df, test_size=0.3, shuffle=True, random_state=42)\n",
    "\n",
    "predictive_features = ['crazy']\n",
    "\n",
    "grad_reg = GradientBoostingRegressor().fit(df_train_random[predictive_features], df_train_random[predicted_feature].values.ravel())\n",
    "\n",
    "y_pred_random_grad = grad_reg.predict(df_test_random[predictive_features])\n",
    "\n",
    "print(\"R2 score with random split: {:.2f}\".format(explained_variance_score(df_test_random[predicted_feature], y_pred_random_grad)))\n",
    "print(\"Mean squared error with random split: {:.2f}\".format(mean_squared_error(df_test_random[predicted_feature], y_pred_random_grad)))\n",
    "\n",
    "reg_random = LinearRegression().fit(df_train_random[predictive_features], df_train_random[predicted_feature])\n",
    "y_pred_random_lin = reg_random.predict(df_test_random[predictive_features])\n",
    "\n",
    "print(\"R2 score with random split: {:.2f}\".format(explained_variance_score(df_test_random[predicted_feature], y_pred_random_lin)))\n",
    "print(\"Mean squared error with random split: {:.2f}\".format(mean_squared_error(df_test_random[predicted_feature], y_pred_random_lin)))\n",
    "\n"
   ]
  },
  {
   "cell_type": "markdown",
   "metadata": {},
   "source": [
    "As can be seen below, gradient boosting succeeds because it is able to perform non-linear mappings as neccessary. On the left chart, the\n",
    "relation to model is shown. On the middle and right chart, one can observe the models obtain from gradient tree boosting\n",
    "and linear regression. Clearly, the linear model fails to capture the non-linear patern."
   ]
  },
  {
   "cell_type": "code",
   "execution_count": 9,
   "metadata": {},
   "outputs": [
    {
     "data": {
      "image/png": "[encoded data removed]",
      "text/plain": [
       "<Figure size 1080x360 with 3 Axes>"
      ]
     },
     "metadata": {
      "needs_background": "light"
     },
     "output_type": "display_data"
    }
   ],
   "source": [
    "fig, (ax1, ax2, ax3) = plt.subplots(1, 3, figsize=(15,5), sharey='row')\n",
    "ax1.set_title(\"Ratings as function of Crazy\")\n",
    "ax2.set_title(\"GradBoost predictions of Ratings using Crazy\")\n",
    "ax3.set_title(\"Linear model predictions of Ratings using Crazy\")\n",
    "ax1.set_ylabel(\"Ratings\")\n",
    "ax1.set_xlabel(\"Crazy\")\n",
    "ax2.set_xlabel(\"Crazy\")\n",
    "ax3.set_xlabel(\"Crazy\")\n",
    "ax1.scatter(df_test_random.crazy, df_test_random.ratings)\n",
    "ax2.scatter(df_test_random.crazy, y_pred_random_grad)\n",
    "ax3.scatter(df_test_random.crazy, y_pred_random_lin)\n",
    "\n",
    "plt.show()"
   ]
  },
  {
   "cell_type": "markdown",
   "metadata": {},
   "source": [
    "### Task 1.5\n",
    "\n",
    "Complex models often have several hyper-parameters. \n",
    "To obtain the best results, it is common-place to use a cross-validation set-up in your training data to find the best hyper-parameters, and then use it for the test set.\n",
    "\n",
    "\n",
    "1. Write modular code (i.e., a function) to divide your training data into $N$ folds and perform cross-validation.\n",
    "2.  Experiment tuning two hyper-parameters of the Gradient Boosting Regressor: `n_estimators` and `learning_rate`.\n",
    "For each possible combination of the two hyper-parameters (see below for the range of values that you should try for each hyper-parameter), train your model in a cross-validation setup with $N$=20. Report the mean $R^2$ along with the 90% CI for the 18 scenarios. Notice that you can calculate the 90% CI in a bootstrap-like fashion.\n",
    "    - `n_estimators`$ \\in  \\{ 50, 75, 100, 150, 200, 250\\}$\n",
    "    - `learning_rate`$ \\in  \\{ 0.1, 0.05, 0.01\\}$.\n",
    "3. With the best hyper-parameters obtained, train your model with the entire training set and report the $R^2$ on the testing set.\n",
    "4. **Discuss:** Why don't we tune the hyper-parameters in the testing set instead of doing cross-validation in the training set?"
   ]
  },
  {
   "cell_type": "code",
   "execution_count": null,
   "metadata": {},
   "outputs": [],
   "source": []
  },
  {
   "cell_type": "code",
   "execution_count": 10,
   "metadata": {},
   "outputs": [
    {
     "name": "stdout",
     "output_type": "stream",
     "text": [
      "Combinaisons: 1/18\n",
      "Combinaisons: 2/18\n",
      "Combinaisons: 3/18\n",
      "Combinaisons: 4/18\n",
      "Combinaisons: 5/18\n",
      "Combinaisons: 6/18\n",
      "Combinaisons: 7/18\n",
      "Combinaisons: 8/18\n",
      "Combinaisons: 9/18\n",
      "Combinaisons: 10/18\n",
      "Combinaisons: 11/18\n",
      "Combinaisons: 12/18\n",
      "Combinaisons: 13/18\n",
      "Combinaisons: 14/18\n",
      "Combinaisons: 15/18\n",
      "Combinaisons: 16/18\n",
      "Combinaisons: 17/18\n",
      "Combinaisons: 18/18\n"
     ]
    }
   ],
   "source": [
    "from sklearn.model_selection import KFold\n",
    "\n",
    "def cross_validator(X, y, n_folds, model, alpha_confidence=0.10, random_state=0, n_bootstraps_estimate=100):\n",
    "    kf = KFold(n_splits=n_folds, random_state=random_state, shuffle=True)\n",
    "    \n",
    "    y_preds = []\n",
    "    y_trues = []\n",
    "    for train_index, test_index in kf.split(X, y):\n",
    "        X_train = X.iloc[train_index, :].values\n",
    "        y_train = y.iloc[train_index, :].values.ravel()\n",
    "        X_test = X.iloc[test_index, :].values\n",
    "        y_test = y.iloc[test_index, :].values.ravel()\n",
    "        \n",
    "        model.fit(X_train, y_train)\n",
    "        y_pred = model.predict(X_test)\n",
    "        y_preds.append(y_pred)\n",
    "        y_trues.append(y_test)\n",
    "        \n",
    "    \n",
    "    all_preds = np.hstack(y_preds)\n",
    "    all_trues = np.hstack(y_trues)\n",
    "    r2_scores = []\n",
    "    random_gn = np.random.RandomState(random_state)\n",
    "    for i in range(n_bootstraps_estimate):\n",
    "        (bootstraped_preds, bootstraped_trues) = bootstrap(all_preds, all_trues, random_state=random_gn)\n",
    "        r2_scores.append(explained_variance_score(bootstraped_trues, bootstraped_preds))\n",
    "        \n",
    "    lower_quantile = np.percentile(r2_scores, 100*(alpha_confidence/2))\n",
    "    higher_quantile = np.percentile(r2_scores, 100*(1-alpha_confidence/2))\n",
    "    mean = np.mean(r2_scores)\n",
    "    \n",
    "    return {\"r2_lower_quantile\": lower_quantile, \"r2_higher_quantile\": higher_quantile, \"r2_mean\": mean}\n",
    "        \n",
    "# cross_validator: a cross validation function\n",
    "# model_class: a model constructor\n",
    "# parameters: parameter names and ranges\n",
    "# test all combinaisons and record the metrics returned by cross_validator\n",
    "def parameters_cross_evaluator(cross_validator, model_class, parameters):\n",
    "    n_parameters = len(parameters.keys())\n",
    "    \n",
    "    range_sizes = {k: len(v) for k, v in parameters.items()}\n",
    "    range_indices = {k: 0 for k in parameters}\n",
    "    parameter_keys = list(parameters.keys())\n",
    "    cum_prod = lambda numbers: 1 if len(numbers) == 0 else numbers[0] * cum_prod(numbers[1:])\n",
    "    number_combinaisons = cum_prod(list(range_sizes.values()))\n",
    "    \n",
    "    parameters_performances_combinaisons = []\n",
    "    for n in range(number_combinaisons):\n",
    "        parameters_combinaison = {k: parameters[k][range_indices[k]] for k in parameters}\n",
    "        range_indices[parameter_keys[0]] += 1\n",
    "        i = 0\n",
    "        done = False\n",
    "        while not done and i < n_parameters-1:\n",
    "            if range_indices[parameter_keys[i]] == range_sizes[parameter_keys[i]]:\n",
    "                range_indices[parameter_keys[i]] = 0\n",
    "                range_indices[parameter_keys[i+1]] += 1\n",
    "                i += 1\n",
    "            else:\n",
    "                done = True\n",
    "        model = model_class(**parameters_combinaison)\n",
    "        results = cross_validator(model)\n",
    "        parameters_performances_combinaisons.append({'parameters': parameters_combinaison, 'performances': results})\n",
    "        print(\"Combinaisons: {}/{}\".format(n+1, number_combinaisons))\n",
    "                                                     \n",
    "    return parameters_performances_combinaisons\n",
    "\n",
    "class LoadedGradBoost:\n",
    "    def __init__(self, n_estimators, learning_rate):\n",
    "        self.model = GradientBoostingRegressor(n_estimators=n_estimators, learning_rate=learning_rate)\n",
    "        \n",
    "    def fit(self, X, y):\n",
    "        self.model.fit(X, y)\n",
    "        \n",
    "        return self\n",
    "    \n",
    "    def predict(self, X):\n",
    "        return self.model.predict(X)\n",
    "    \n",
    "df_train_random, df_test_random = train_test_split(df, test_size=0.3, shuffle=True, random_state=42)\n",
    "\n",
    "loaded_cross_validator = lambda model: cross_validator(X=df_train_random[predictive_features], \n",
    "                                                        y=df_train_random[predicted_feature],\n",
    "                                                        n_folds=20,\n",
    "                                                        model=model,\n",
    "                                                        random_state=0,\n",
    "                                                        n_bootstraps_estimate=250)\n",
    "    \n",
    "predictive_features = ['authors_citations_median', 'authors_publications_median', 'authors_hindex_median', 'reputation']\n",
    "predicted_feature = ['ratings']\n",
    "parameters_performances_combinaisons = parameters_cross_evaluator(loaded_cross_validator, LoadedGradBoost, {'n_estimators': [50, 75, 100, 150, 200, 250],\n",
    "                                                          'learning_rate': [0.1, 0.05, 0.01]})\n",
    "    "
   ]
  },
  {
   "cell_type": "code",
   "execution_count": 12,
   "metadata": {},
   "outputs": [
    {
     "name": "stdout",
     "output_type": "stream",
     "text": [
      "Best paramers: {'n_estimators': 50, 'learning_rate': 0.1}\n",
      "R2 score with best params: 0.14\n",
      "Mean squared error with random split: 1.95\n"
     ]
    }
   ],
   "source": [
    "def best_parameters_combinaison(parameters_performances_combinaisons):\n",
    "    best_parameters = None\n",
    "    largest_r2_mean = -np.inf\n",
    "    for combinaison in parameters_performances_combinaisons:\n",
    "        if combinaison['performances']['r2_mean'] > largest_r2_mean:\n",
    "            largest_r2_mean = combinaison['performances']['r2_mean']\n",
    "            best_parameters = combinaison['parameters']\n",
    "\n",
    "    return best_parameters\n",
    "\n",
    "best_parameters = best_parameters_combinaison(parameters_performances_combinaisons)\n",
    "print(\"Best paramers: {}\".format(best_parameters))\n",
    "best_parameters = best_parameters_combinaison(parameters_performances_combinaisons)\n",
    "best_params_model = LoadedGradBoost(**best_parameters).fit(X=df_train_random[predictive_features],\n",
    "                                                           y=df_train_random[predicted_feature].values.ravel())\n",
    "y_pred_best_params = best_params_model.predict(df_test_random[predictive_features])\n",
    "\n",
    "print(\"R2 score with best params: {:.2f}\".format(explained_variance_score(df_test_random[predicted_feature], y_pred_best_params)))\n",
    "print(\"Mean squared error with random split: {:.2f}\".format(mean_squared_error(df_test_random[predicted_feature], y_pred_best_params)))\n"
   ]
  },
  {
   "cell_type": "markdown",
   "metadata": {},
   "source": [
    "Cross-validation on the training set and then evaluation on the test set is intended to avoid \"leakage\". Tuning on the test set could\n",
    "have been possible if an additional (non-intersecting) evaluation set was available. Cross-validation mimics this inside the\n",
    "training-set where several sub-train set and sub-test set are made. Hence, the test set is an evaluation set."
   ]
  },
  {
   "cell_type": "markdown",
   "metadata": {},
   "source": [
    "## _Step 2:_ What influences papers getting accepted?\n",
    "\n",
    "Time to change hats!\n",
    "\n",
    "If before we were interested in creating an accurate regressor, now we are interested in understanding what increases the chance of papers getting accepted. \n",
    "\n",
    "Typically, in that scenario, simpler models with a clear statistical interpretation (e.g. logistic regression) yield more interesting insights.\n",
    "\n",
    "For the analysis in this and the next step, you should use [statsmodels](https://www.statsmodels.org/) (for the regressions) and [scipy](https://www.scipy.org/) (for the statistical hypothesis testing).\n"
   ]
  },
  {
   "cell_type": "markdown",
   "metadata": {},
   "source": [
    "### Task 2.1\n",
    "\n",
    "Let's warm up with some visualizations and some hypothesis testing!\n",
    "\n",
    "1. Plot the distributions of 1) ratings of papers that got accepted in 2020, 2) ratings of papers that got rejected in 2020.\n",
    "2. Select a statistical test to compare whether the mean for ratings of papers that got accepted in 2020 is significantly higher.\n",
    "3. **Discuss:** Justify why the statistical test you selected is appropriate. Interpret the test-related statistic and its p-value: concretely, what do they mean?"
   ]
  },
  {
   "cell_type": "code",
   "execution_count": 13,
   "metadata": {},
   "outputs": [
    {
     "data": {
      "image/png": "[encoded data removed]",
      "text/plain": [
       "<Figure size 432x288 with 1 Axes>"
      ]
     },
     "metadata": {
      "needs_background": "light"
     },
     "output_type": "display_data"
    }
   ],
   "source": [
    "accepted_ratings = df.ratings.loc[df.decisions == 'Accept']\n",
    "rejected_ratings = df.ratings.loc[df.decisions == 'Reject']\n",
    "\n",
    "\n",
    "_, bins, _ = plt.hist(accepted_ratings, bins=25, range=[0, 9], label=\"Accepted ratings\", density=True)\n",
    "_ = plt.hist(rejected_ratings, bins=bins, alpha=0.5, label=\"Rejected ratings\", density=True)\n",
    "\n",
    "plt.legend(loc='upper right')\n",
    "plt.title(\"Density histogram of the ratings for accepted/rejected papers\")\n",
    "plt.xlabel(\"Ratings\")\n",
    "plt.ylabel(\"Density\")\n",
    "plt.show()"
   ]
  },
  {
   "cell_type": "code",
   "execution_count": 14,
   "metadata": {},
   "outputs": [
    {
     "name": "stdout",
     "output_type": "stream",
     "text": [
      "NormaltestResult(statistic=65.31923029571487, pvalue=6.54801039524873e-15)\n",
      "NormaltestResult(statistic=103.5348259277187, pvalue=3.2938074490877515e-23)\n",
      "ShapiroResult(statistic=0.9683775901794434, pvalue=2.3755101871473407e-17)\n",
      "ShapiroResult(statistic=0.9695207476615906, pvalue=6.400637919107352e-24)\n",
      "Std for the accepted ratings: 0.760  ;  Std for the rejected ratings: 1.201\n",
      "Ttest_indResult(statistic=72.51425592396187, pvalue=0.0)\n",
      "MannwhitneyuResult(statistic=209528.0, pvalue=0.0)\n"
     ]
    }
   ],
   "source": [
    "from scipy import stats\n",
    "\n",
    "\n",
    "print(stats.normaltest(accepted_ratings))\n",
    "print(stats.normaltest(rejected_ratings))\n",
    "print(stats.shapiro(accepted_ratings))\n",
    "print(stats.shapiro(rejected_ratings))\n",
    "\n",
    "print(\"Std for the accepted ratings: {:.3f}  ;  Std for the rejected ratings: {:.3f}\".format(np.std(accepted_ratings), np.std(rejected_ratings)))\n",
    "print(stats.ttest_ind(accepted_ratings, rejected_ratings, equal_var = False))\n",
    "\n",
    "print(stats.mannwhitneyu(accepted_ratings, rejected_ratings))\n"
   ]
  },
  {
   "cell_type": "markdown",
   "metadata": {},
   "source": [
    "Both D’Agostino's and Shapiro's normality test reject the normality of both groups. Thus a t-test does not seem appropriate. The Mann whitney U test is non-parametric. However, it tests the discrepancy between the medians and not the means. Since both groups seem to be pretty symetrical we can convince ourselves that, to some extent, the result will be transferable to the mean. The p-value is below both 0.05 and 0.025 such that we reject the null hypothesis. Hence, the medians are statistically different. (Need to find more info about the interpretation of the statistic.)"
   ]
  },
  {
   "cell_type": "markdown",
   "metadata": {},
   "source": [
    "### Task 2.2\n",
    "\n",
    "We will now carry out a logistic regression modeling the binary variable `decisions` as a function of the continuous variable `ratings` and an intercept. \n",
    "\n",
    "Recall that a logistic regression is a model in the form:\n",
    "\n",
    "$$\n",
    "\\log \\Big( \\frac{p}{1-p} \\Big) = b_0 + b_1x_1 + b_2x_2 + \\ldots\n",
    "$$\n",
    "\n",
    "Where $p$ is the probability of the dependent variable (here, `decisions`) being equals to 1. \n",
    "Note that $\\frac{p}{1-p}$ represents the odds of the variable, and thus, on the left-hand side we have the log-odds of the variable.\n",
    "This can be also written as:\n",
    "\n",
    "$$\n",
    "\\Big( \\frac{p}{1-p} \\Big) = e^{b_0 + b_1 x_1 + b_2 x_2 + \\ldots} =  e^{b_0} e^{b_1 x_1} e^{b_2 x_2} \\ldots\n",
    "$$\n",
    "\n",
    "Given a linear variable, say $x_1$, if we increase the value associated with this variable by a single unit, and keep everything constant, we have:\n",
    "\n",
    "$$\n",
    " e^{b_1(x_1+1)} =  e^{b_1 x_1 + b_1} = e^{b_1 x_1}e^{b_1}  \n",
    "$$\n",
    "\n",
    "This means that we multiply the odds of the outcome variable by $e^{b_1}$. Thus, let's say that $x_1$ is the average rating, and $\\beta_1$ is the associated coefficient. Also, let's assume that $\\beta_1$ equals 2. In that case, increasing the score of the paper by 1 unit is equivalent to multiplying both sides of the previous equation by $e^{b_1}$. The original equation for our model becomes:\n",
    "\n",
    "$$\n",
    "\\Big( \\frac{p}{1-p} \\Big) = e^{b_0} e^{b_1 x_1} \n",
    "$$\n",
    "$$\n",
    "\\Big( \\frac{p}{1-p} \\Big) e^{b_1}  = e^{b_0} e^{b_1 x_1} e^{b_1}\n",
    "$$\n",
    "\n",
    "Since $b_1=2$, we have that this is the same as multiplying the odds of the variable by $e^2\\approx7$. \n",
    "So for example, if a paper with a score 5 had $p=0.05$ of being approved, its odds would be $0.05/0.95\\approx0.052$. According to our model, an increase in 1-rating point would mean that the new odds would be $0.052*7\\approx0.36$. Using the odds formula  ($\\frac{p}{1-p}$), this suggests that this paper would have a chance of $0.56$ of being accepted.\n",
    "\n",
    "---\n",
    "\n",
    "This is the theory. Now, let's find out what the real world looks like.\n",
    "\n",
    "\n",
    "1. Fit a logistic regression model to our data considering as the training set all papers submitted in 2020. Your model should predict a binary variable related to decisions (which equals true if the paper was accepted and false otherwise) as a function of the paper ratings and an intercept. In mathematical notation:\n",
    "$$\n",
    "d = b_0 + r b_1\n",
    "$$\n",
    "Where $d$ is the binary variable corresponding to a decision, $r$ is a numeric variable corresponding to the rating a paper has received and $b$ are coefficients.\n",
    "Notice that here we have no testing set!\n",
    "Report the summary of your model. \n",
    "2. **Discuss:** Interpreting the coefficients of your model, calculate the probability that a paper with a score 7 will be accepted.\n",
    "\n"
   ]
  },
  {
   "cell_type": "code",
   "execution_count": 15,
   "metadata": {},
   "outputs": [
    {
     "name": "stdout",
     "output_type": "stream",
     "text": [
      "Optimization terminated successfully.\n",
      "         Current function value: 0.270580\n",
      "         Iterations 8\n",
      "                           Logit Regression Results                           \n",
      "==============================================================================\n",
      "Dep. Variable:                      y   No. Observations:                 4256\n",
      "Model:                          Logit   Df Residuals:                     4254\n",
      "Method:                           MLE   Df Model:                            1\n",
      "Date:                Thu, 19 Nov 2020   Pseudo R-squ.:                  0.5793\n",
      "Time:                        06:12:43   Log-Likelihood:                -1151.6\n",
      "converged:                       True   LL-Null:                       -2737.4\n",
      "Covariance Type:            nonrobust   LLR p-value:                     0.000\n",
      "==============================================================================\n",
      "                 coef    std err          z      P>|z|      [0.025      0.975]\n",
      "------------------------------------------------------------------------------\n",
      "const        -15.3427      0.496    -30.961      0.000     -16.314     -14.371\n",
      "x1             2.6728      0.087     30.888      0.000       2.503       2.842\n",
      "==============================================================================\n"
     ]
    }
   ],
   "source": [
    "import statsmodels.api as sm \n",
    "ratings = df.ratings.values\n",
    "accepted = (df.decisions == \"Accept\").values.astype(int)\n",
    "\n",
    "exog = sm.add_constant(ratings) # add a constant variable (to get an intercept)\n",
    "log_reg = sm.Logit(accepted, exog)\n",
    "\n",
    "print(log_reg.fit().summary())"
   ]
  },
  {
   "cell_type": "markdown",
   "metadata": {},
   "source": [
    "The intercept is -15 meaning that if the rating is equal to 0, we model $\\frac{p}{1-p}$ as $e^{-15.34}$. Hence $p=\\frac{e^{-15.34}}{e^{-15.34}+1} \\approx 0$ in that case. The coefficient corresponding to the rating is 2.67. This coefficient is positive so that an increase in the ratings implies an increase in the odds and thus the probability to be accepted. For the probability to be equal to $\\frac{1}{2}$, the rating must be equal to $-\\frac{b_0}{b_1} = 5.74$ which is the modeled classification threshold. A rating below is this value is modeled to have a probability of acceptance that is below $\\frac{1}{2}$. A paper with rating equal to 7 would have a modeled odds of acceptance of $e^{b_0}e^{b_1 x}=e^{-15.34}e^{2.67*7}=28.50$ and then a probability of 0.96."
   ]
  },
  {
   "cell_type": "markdown",
   "metadata": {},
   "source": [
    "### Task 2.3\n",
    "\n",
    "Our model is not so interesting since the only independent variable (that is, our model' feature or predictor) is something blatantly associated with paper acceptance. Let's go further! \n",
    "\n",
    "1. Run a logistic regression with the binary decision as the dependent variable (the outcome) and using as independent variables (the features): ratings, the reputation of the last author, and whether the paper was on arxiv or not. That is, in [patsy-style formula](https://patsy.readthedocs.io/en/latest/formulas.html): `decisions ~ ratings + reputation + arxiv` (variable names do not need to be exactly these). Consider all papers submitted in 2020 as your training data.\n",
    "Notice that reputation was calculated in Task 1.1. \n",
    "2. **Discuss:** Unlike `ratings` and `reputation`, the variable `arxiv` is binary. Following the same logic as we did for continuous variables in the text of Task 2.2, interpret the meaning of this coefficient. What happens to the odds ratio if the paper was seen in arxiv? Is this effect statistically significant?"
   ]
  },
  {
   "cell_type": "code",
   "execution_count": 16,
   "metadata": {},
   "outputs": [
    {
     "name": "stdout",
     "output_type": "stream",
     "text": [
      "Optimization terminated successfully.\n",
      "         Current function value: 0.250440\n",
      "         Iterations 8\n",
      "                           Logit Regression Results                           \n",
      "==============================================================================\n",
      "Dep. Variable:                      y   No. Observations:                 2052\n",
      "Model:                          Logit   Df Residuals:                     2048\n",
      "Method:                           MLE   Df Model:                            3\n",
      "Date:                Thu, 19 Nov 2020   Pseudo R-squ.:                  0.5936\n",
      "Time:                        06:12:45   Log-Likelihood:                -513.90\n",
      "converged:                       True   LL-Null:                       -1264.6\n",
      "Covariance Type:            nonrobust   LLR p-value:                     0.000\n",
      "==============================================================================\n",
      "                 coef    std err          z      P>|z|      [0.025      0.975]\n",
      "------------------------------------------------------------------------------\n",
      "const        -13.2261      0.634    -20.873      0.000     -14.468     -11.984\n",
      "ratings        2.3541      0.111     21.296      0.000       2.137       2.571\n",
      "reputation     0.2267      0.148      1.533      0.125      -0.063       0.517\n",
      "arxiv          0.2890      0.167      1.727      0.084      -0.039       0.617\n",
      "==============================================================================\n"
     ]
    }
   ],
   "source": [
    "df.arxiv = df.arxiv.astype(int)\n",
    "df_test_date = df.loc[(df.year == 2018) | (df.year == 2019)]\n",
    "df_train_date = df.loc[df.year == 2020]\n",
    "\n",
    "accepted_train = (df_train_date.decisions == \"Accept\").values.astype(int)\n",
    "accepted_test = (df_test_date.decisions == \"Accept\").values.astype(int) \n",
    "exog_variables = [\"ratings\", \"reputation\", \"arxiv\"]\n",
    "\n",
    "exog_train = sm.add_constant(df_train_date[exog_variables]) # add a constant variable (to get an intercept)\n",
    "\n",
    "log_reg = sm.Logit(accepted_train, exog_train)\n",
    "\n",
    "print(log_reg.fit().summary())\n"
   ]
  },
  {
   "cell_type": "markdown",
   "metadata": {},
   "source": [
    "In the case of binary variables as arxiv, the interpretation as \"the variable increase by 1\" says it all. If the coefficient on \"arxiv\" is $b_0$ then, being preprinted increase the odds by a factor of $e^{b_0}$. However, in this case the interpretation is much less clear. Indeed, p-values associated to the coefficients of \"reputation\" and \"arxiv\" are above 0.05. Both intervals (on the right) suggest that the coefficients could even be negative. The mentionned coefficients are positive so that an increase in \"reputation\" or \"arxiv\" (going from 0 to 1) would increase the probability of acceptance. However, the coefficients do not settle on clear values, so does the interpretation. As before, the coefficient of \"ratings\" is positive with confidence so that an increase in the ratings leads to a modeled increase in the probability of acceptance."
   ]
  },
  {
   "cell_type": "markdown",
   "metadata": {},
   "source": [
    "### Task 2.4\n",
    "\n",
    "Let's finally move on to the question that you have been dying to answer: Do pre-prints favor top institutions? \n",
    "\n",
    "In order to (try to) answer that question, you must fit yet another logistic regression.\n",
    "\n",
    "Your regression should have the paper decision as the dependent variable, and `ratings`, `reputation`, and `arxiv` as independent variables just like in task 2.3. Yet, here, include also as independent variables the binary variable `has_top_institution`, which equals 1 if the paper has an author in a top-10 institution; and the interaction variable `arxiv:has_top_institution`, which equals one only if the paper is from a top-10 institution **and** if it appeared on arxiv before the submission deadline. In patsy-style formula your model should look something like: \n",
    "\n",
    "`decisions_bool ~ ratings + reputation + arxiv + has_top_institution + arxiv:has_top_institution`\n",
    "\n",
    "\n",
    "1. Fit this model and estimate the effect of posting on arxiv for a top institution. Again, consider only papers submitted in the 2020 edition.\n",
    "2. **Discuss:** Interpreting the p-values, discuss: is this evidence that arxiv breaks double-blind submissions?"
   ]
  },
  {
   "cell_type": "code",
   "execution_count": 17,
   "metadata": {},
   "outputs": [
    {
     "name": "stdout",
     "output_type": "stream",
     "text": [
      "Optimization terminated successfully.\n",
      "         Current function value: 0.247431\n",
      "         Iterations 8\n",
      "                           Logit Regression Results                           \n",
      "==============================================================================\n",
      "Dep. Variable:                      y   No. Observations:                 2052\n",
      "Model:                          Logit   Df Residuals:                     2046\n",
      "Method:                           MLE   Df Model:                            5\n",
      "Date:                Thu, 19 Nov 2020   Pseudo R-squ.:                  0.5985\n",
      "Time:                        06:12:47   Log-Likelihood:                -507.73\n",
      "converged:                       True   LL-Null:                       -1264.6\n",
      "Covariance Type:            nonrobust   LLR p-value:                     0.000\n",
      "=============================================================================================\n",
      "                                coef    std err          z      P>|z|      [0.025      0.975]\n",
      "---------------------------------------------------------------------------------------------\n",
      "const                       -13.3299      0.642    -20.772      0.000     -14.588     -12.072\n",
      "ratings                       2.3804      0.112     21.207      0.000       2.160       2.600\n",
      "reputation                    0.1778      0.150      1.185      0.236      -0.116       0.472\n",
      "arxiv                         0.0986      0.186      0.530      0.596      -0.266       0.463\n",
      "has_top_institution           0.1636      0.264      0.621      0.535      -0.353       0.680\n",
      "arxiv:has_top_institution     1.0500      0.441      2.382      0.017       0.186       1.914\n",
      "=============================================================================================\n"
     ]
    }
   ],
   "source": [
    "exog_variables = [\"ratings\", \"reputation\", \"arxiv\", \"has_top_institution\"] \n",
    "arxiv_has_top_institution = (df_train_date.arxiv == 1).astype(bool) & (df_train_date.has_top_institution == 1.0).astype(bool)\n",
    "arxiv_has_top_institution = arxiv_has_top_institution.astype(int)\n",
    "exog = pd.concat([df_train_date[exog_variables], pd.DataFrame({'arxiv:has_top_institution': arxiv_has_top_institution})], axis=1)\n",
    "exog = sm.add_constant(exog) # add a constant variable (to get an intercept)\n",
    "\n",
    "log_reg = sm.Logit(accepted_train, exog)\n",
    "\n",
    "print(log_reg.fit().summary())"
   ]
  },
  {
   "cell_type": "markdown",
   "metadata": {},
   "source": [
    "As before, some p-values are above 0.05. This is the case of the coefficients of \"reputation\", \"arxiv\", and \"has_top_institution\". This coefficients are clearly unsettled has can be seen on the intervals on the right. As before, the coefficients can be negative so that interpretation can be completely flipped. These coefficients are inconclusive. However, the newly added variable arxiv:has_top_institution has a p-value below 0.05. The interval suggest a positive effect of widly varying magnitude but positive anyway. Hence, the model suggest that paper with at least one author from a top academy and which were previously published on arxiv are more likely to be accepted. This could suggest that papers from well-known and experience authors published on arxiv might have been seen by the reviewer. Hence, it could have influenced their perception of the work. This is interesting because individually, \"arxiv\" and \"has_top_institution\" have unclear effect on the likelihood of acceptance but combined, the effect is neat. If the inital modeled probability of acceptance was 0.05, the odds would be $\\approx 0.052$. Letting a paper moving from \"not published on arxiv and has no author from a top institution\" to \"published on arxiv and has at last one author from a top institution\" implies multiplying the odds by $e^{1.05} \\approx 2.85$ to $0.1482$. Thus the modeled probability of acceptance would move from 0.05 to 0.13. Below we show the impact of that change of situation from any original probabiliy of acceptance. With the suggested coefficient, the impact is noticeable."
   ]
  },
  {
   "cell_type": "code",
   "execution_count": 18,
   "metadata": {},
   "outputs": [
    {
     "name": "stdout",
     "output_type": "stream",
     "text": [
      "Changing the situation on arxiv:has_top_institution can change a probability of 0.05 to 0.13\n"
     ]
    },
    {
     "data": {
      "image/png": "[encoded data removed]",
      "text/plain": [
       "<Figure size 504x504 with 1 Axes>"
      ]
     },
     "metadata": {
      "needs_background": "light"
     },
     "output_type": "display_data"
    }
   ],
   "source": [
    "def new_probability(probability, odds_multiplier):\n",
    "    odds = probability/(1-probability)\n",
    "    new_odds = odds * odds_multiplier\n",
    "    return new_odds/(new_odds+1)\n",
    "\n",
    "print(\"Changing the situation on arxiv:has_top_institution can change a probability of 0.05 to {:.2f}\".format(new_probability(0.05, 2.85)))\n",
    "\n",
    "probabilities = np.linspace(0.01,0.99,100)\n",
    "new_probabilities = [new_probability(prob, 2.85) for prob in probabilities]\n",
    "plt.figure(figsize=(7,7))\n",
    "plt.plot(probabilities, new_probabilities, label=\"new prob after odds multiplier\")\n",
    "plt.plot(probabilities, probabilities, label=\"new prob = prob\")\n",
    "plt.title(\"Impact of change on arxiv:has_top_institution \\n on the modeled probabiliy of acceptance\")\n",
    "plt.xlabel(\"Current probability\")\n",
    "plt.ylabel(\"New probability\")\n",
    "plt.hlines(0.1304, 0, 0.05, linestyle='dotted', color=\"red\", label=\"Original p=0.05\")\n",
    "plt.vlines(0.05, 0, 0.1304, linestyle='dotted', color=\"red\")\n",
    "plt.legend(loc=\"upper left\")\n",
    "\n",
    "plt.grid()\n",
    "plt.show()"
   ]
  },
  {
   "cell_type": "markdown",
   "metadata": {},
   "source": [
    "## Step 3: Matching\n",
    "\n",
    "Okay, so let's change hats one last time.\n",
    "\n",
    "As you have all seen in class, a particularly powerful way of disentangling causal effects from observational data is through matching: making sure we are not comparing apples to oranges.\n",
    "\n",
    "\n",
    "### Task 3.1\n",
    "\n",
    "One of the ways to do matching is called \"Propensity Score Matching.\" There, we calculate a *propensity score* for each subject which represents the propensity to receive a \"treatment.\" Then, we match subjects who received and did not receive the treatment, but that had similar propensity scores (that is, even though some received the treatment and some did not, they had similar chances to receive it).\n",
    "\n",
    "In our specific case, we can further attempt to study the impact of pre-prints by considering publishing to arxiv as our \"treatment\".\n",
    "\n",
    "In that context, the first step to perform propensity score matching is to create a classifier that predicts whether a paper was published on arxiv or not.\n",
    "\n",
    "1. We have trained this classifier for you (don't get spoiled!). You may load the pandas dataframe entitled `propensity_scores.csv.gz` from the github repo. \n",
    "Notice that we will be using only the articles published in 2020. \n",
    "Create a new dataframe that is a merged version of this new dataframe with the dataframe you have been working on so far. Remember to keep only the papers published in 2020!\n",
    "2. **Discuss:** In which way is this classifier (that is a classifier trained to estimate propensity scores) different from the previous classifier that you trained in Step 1?\n",
    "\n",
    "**Hint:** For a classifier tra we don't need a training set and a test set!\n"
   ]
  },
  {
   "cell_type": "code",
   "execution_count": 19,
   "metadata": {},
   "outputs": [],
   "source": [
    "df_propensity_scores = pd.read_csv('data\\propensity_scores.csv.gz', compression='gzip', error_bad_lines=False)\n",
    "df_2020 = df.loc[df.year == 2020]\n",
    "df_merged = pd.merge(df_2020,df_propensity_scores,on='paper')\n"
   ]
  },
  {
   "cell_type": "markdown",
   "metadata": {},
   "source": [
    "In the case of the propensity score, the classifier is just used to output a score which will not be thresholded. Furthermore, it will only be used as a \"compressor\" reducing the explanatory variable to a score. There is not need for out-of-sample performance analysis. (Not sure about that)."
   ]
  },
  {
   "cell_type": "markdown",
   "metadata": {},
   "source": [
    "### Task 3.2\n",
    "\n",
    "Now is time to match users! You will be implementing a technique called *caliper matching*. \n",
    "\n",
    "Create pairs of users as follows. For each treated subject (here a paper that was submitted to arxiv), find a non-treated subject (a paper that was not submitted to arxiv) with similar propensity score. Namely, if the propensity score of the treated unit is $p_t$, you must find a non-treated unit $p_c$ with propensity score $|p_{c} - p_t| < \\epsilon$. If there is no such a non-treated unit, you may ignore the treated unit and move forward with the matching. Notice that your output must be a 1-to-1 matching. So each paper can only be matched once.\n",
    "\n",
    "1. Perform this matching procedure using $\\epsilon = 0.05$.\n",
    "2. Report how many pairs did you manage to match? How many didn't you?"
   ]
  },
  {
   "cell_type": "code",
   "execution_count": 20,
   "metadata": {},
   "outputs": [
    {
     "name": "stdout",
     "output_type": "stream",
     "text": [
      "Indice 50/2052\n",
      "Indice 200/2052\n",
      "Indice 300/2052\n",
      "Indice 400/2052\n",
      "Indice 450/2052\n",
      "Indice 500/2052\n",
      "Indice 550/2052\n",
      "Indice 650/2052\n",
      "Indice 800/2052\n",
      "Indice 850/2052\n",
      "Indice 900/2052\n",
      "Indice 950/2052\n",
      "Indice 1000/2052\n",
      "Indice 1050/2052\n",
      "Indice 1150/2052\n",
      "Indice 1200/2052\n",
      "Indice 1250/2052\n",
      "Indice 1400/2052\n",
      "Indice 1450/2052\n",
      "Indice 1500/2052\n",
      "Indice 1550/2052\n",
      "Indice 1600/2052\n",
      "Indice 1650/2052\n",
      "Indice 1700/2052\n",
      "Indice 1750/2052\n",
      "Indice 1800/2052\n",
      "Indice 1850/2052\n",
      "Indice 1900/2052\n",
      "Indice 2000/2052\n"
     ]
    }
   ],
   "source": [
    "remaining_indices = list(df_merged.index)\n",
    "remaining_indices_preprinted = list(df_merged.index[df_merged.arxiv == 1])\n",
    "remaining_indices_not_preprinted = list(df_merged.index[df_merged.arxiv == 0])\n",
    "\n",
    "\n",
    "matchings = []\n",
    "\n",
    "epsilon = 0.05\n",
    "\n",
    "\n",
    "indice = remaining_indices[0]\n",
    "done = False\n",
    "while done is False:\n",
    "    if indice % 50 == 0 and indice != 0:\n",
    "        print(\"Indice {}/{}\".format(indice, df_merged.shape[0]))\n",
    "    \n",
    "    preprinted = df_merged.arxiv.iloc[indice] == 1\n",
    "    if preprinted is True:\n",
    "        look_up_indices = remaining_indices_not_preprinted\n",
    "        original_indices = remaining_indices_preprinted\n",
    "    else:\n",
    "        look_up_indices = remaining_indices_preprinted\n",
    "        original_indices = remaining_indices_not_preprinted\n",
    "        \n",
    "        \n",
    "    indice_propensity = df_merged.propensity_score.iloc[indice]\n",
    "    for remaining_indice in look_up_indices:\n",
    "        remaining_indice_propensity = df_merged.propensity_score.iloc[remaining_indice]\n",
    "        if np.abs(indice_propensity - remaining_indice_propensity) < epsilon:\n",
    "            \n",
    "            if preprinted is True:\n",
    "                matchings.append((indice, remaining_indice))\n",
    "            else:\n",
    "                matchings.append((remaining_indice, indice))\n",
    "            \n",
    "            original_indices.remove(indice)\n",
    "            look_up_indices.remove(remaining_indice)\n",
    "            remaining_indices.remove(indice)\n",
    "            remaining_indices.remove(remaining_indice)\n",
    "            break\n",
    "            \n",
    "    indice += 1\n",
    "    \n",
    "    while indice not in remaining_indices:\n",
    "        if indice == df_merged.shape[0]:\n",
    "            done = True\n",
    "            break \n",
    "            \n",
    "        indice += 1\n",
    "    \n",
    "            "
   ]
  },
  {
   "cell_type": "code",
   "execution_count": 26,
   "metadata": {},
   "outputs": [
    {
     "name": "stdout",
     "output_type": "stream",
     "text": [
      "Pairs: 590\n",
      "There were 590 pre-printed papers, and 1462 non pre-printed papers. Thus, the maximum number of pairs is 590.\n"
     ]
    }
   ],
   "source": [
    "print(\"Pairs: {}\".format(len(matchings)))\n",
    "print(\"There were {} pre-printed papers, and {} non pre-printed papers. Thus, the maximum number of pairs is {}.\".format(np.sum(df_merged.arxiv),\n",
    "                                                                                                                       len(df_merged.arxiv) - np.sum(df_merged.arxiv),\n",
    "                                                                                                                       np.min([np.sum(df_merged.arxiv), len(df_merged.arxiv) - np.sum(df_merged.arxiv)])))\n"
   ]
  },
  {
   "cell_type": "markdown",
   "metadata": {},
   "source": [
    "Maybe the matching could be improved. One could shuffle the lists and retry several times. A score could be the sum of the absolute\n",
    "difference between the elements of pairs. The smaller the better."
   ]
  },
  {
   "cell_type": "markdown",
   "metadata": {
    "pycharm": {
     "name": "#%% md\n"
    }
   },
   "source": [
    "### Task 3.3\n",
    "\n",
    "Let's evaluate your matching! There are more rigorous ways to do it, but we'll go the easy path.\n",
    "\n",
    "\n",
    "1. Using one or several appropriate plot types, visualize the distributions of the variables reputation and ratings, for treated and non-treated subjects that you matched.\n",
    "2. Visualize the distributions of these variables for all papers from 2020 that appeared on arxiv, and all papers that did not (including those you did not manage to match).\n",
    "3. **Discuss:** According to your visual analysis (no statistical tests needed here), did the matching do a good job at balancing covariates?"
   ]
  },
  {
   "cell_type": "code",
   "execution_count": 461,
   "metadata": {
    "pycharm": {
     "name": "#%%\n"
    }
   },
   "outputs": [
    {
     "data": {
      "image/png": "[encoded data removed]",
      "text/plain": [
       "<Figure size 432x288 with 2 Axes>"
      ]
     },
     "metadata": {
      "needs_background": "light"
     },
     "output_type": "display_data"
    },
    {
     "data": {
      "image/png": "[encoded data removed]",
      "text/plain": [
       "<Figure size 432x288 with 1 Axes>"
      ]
     },
     "metadata": {
      "needs_background": "light"
     },
     "output_type": "display_data"
    },
    {
     "data": {
      "image/png": "[encoded data removed]",
      "text/plain": [
       "<Figure size 432x288 with 2 Axes>"
      ]
     },
     "metadata": {
      "needs_background": "light"
     },
     "output_type": "display_data"
    },
    {
     "data": {
      "image/png": "[encoded data removed]",
      "text/plain": [
       "<Figure size 432x288 with 1 Axes>"
      ]
     },
     "metadata": {
      "needs_background": "light"
     },
     "output_type": "display_data"
    }
   ],
   "source": [
    "reputations_preprinted = [df_merged.reputation.iloc[match[0]] for match in matchings]\n",
    "reputations_not_preprinted = [df_merged.reputation.iloc[match[1]] for match in matchings]\n",
    "\n",
    "plt.hist2d(reputations_preprinted, reputations_not_preprinted, bins=(25, 25), cmap=plt.cm.jet)\n",
    "\n",
    "plt.title(\"Density histogram of the empirical $P_{\\mathrm{matched}}(rep_{\\mathrm{printed}},rep_{\\mathrm{not\\;\\;printed}})$\")\n",
    "plt.xlabel(\"Reputation preprinted\")\n",
    "plt.ylabel(\"Reputation not preprinted\")\n",
    "plt.plot(np.linspace(0, 3, 100), np.linspace(0, 3, 100), color=\"red\")\n",
    "plt.colorbar()\n",
    "plt.show()\n",
    "\n",
    "plt.scatter(reputations_preprinted, reputations_not_preprinted)\n",
    "plt.title(\"Scatter plot of matched reputations\")\n",
    "plt.xlabel(\"Reputation preprinted\")\n",
    "plt.ylabel(\"Reputation not preprinted\")\n",
    "plt.plot(np.linspace(0, 3, 100), np.linspace(0, 3, 100), color=\"red\")\n",
    "plt.show()\n",
    "\n",
    "ratings_preprinted = [df_merged.ratings.iloc[match[0]] for match in matchings]\n",
    "ratings_not_preprinted = [df_merged.ratings.iloc[match[1]] for match in matchings]\n",
    "\n",
    "plt.hist2d(ratings_preprinted, ratings_not_preprinted, bins=(25, 25), cmap=plt.cm.jet)\n",
    "\n",
    "plt.title(\"Density histogram of the empirical $P_{\\mathrm{matched}}(rat{\\mathrm{printed}},rat{\\mathrm{not\\;\\;printed}})$\")\n",
    "plt.xlabel(\"Rating preprinted\")\n",
    "plt.ylabel(\"Rating not preprinted\")\n",
    "plt.colorbar()\n",
    "plt.plot(np.linspace(0, 8, 100), np.linspace(0, 8, 100), color=\"red\")\n",
    "plt.show()\n",
    "\n",
    "plt.scatter(ratings_preprinted, ratings_not_preprinted)\n",
    "plt.title(\"Scatter plot of matched ratings\")\n",
    "plt.xlabel(\"Rating preprinted\")\n",
    "plt.ylabel(\"Rating not preprinted\")\n",
    "plt.plot(np.linspace(0, 8, 100), np.linspace(0, 8, 100), color=\"red\")\n",
    "plt.show()"
   ]
  },
  {
   "cell_type": "markdown",
   "metadata": {},
   "source": [
    "The method appears to balance reputation and ratings in average as can be seen on the y=x lines."
   ]
  },
  {
   "cell_type": "markdown",
   "metadata": {
    "pycharm": {
     "name": "#%% md\n"
    }
   },
   "source": [
    "### Task 3.4\n",
    "\n",
    "Finally, it's time to estimate the treatment effect. Given that we have pairs of matched samples, one that received treatment and one that did not, and that they have associated outcomes $y_{treat}$ and $y_{\\neg treat}$. We can calculate the average treatment effect as:\n",
    "\n",
    "$$\n",
    "ATE = \\frac{1}{N} \\sum_i^N  y_{treat}^{(i)} - y_{\\neg treat}^{(i)}\n",
    "$$\n",
    "\n",
    "Notice that here the outcome is a simple binary variable which equals 1 if the paper has been accepted and equals 0 if the paper has been rejected, and $N$ is the total number of matched samples in our analysis.\n",
    "\n",
    "According to your matched sample, estimate the treatment effect of publishing a paper on arxiv. Report the 95% CI through bootstrapping.\n"
   ]
  },
  {
   "cell_type": "code",
   "execution_count": 28,
   "metadata": {
    "pycharm": {
     "name": "#%%\n"
    }
   },
   "outputs": [
    {
     "name": "stdout",
     "output_type": "stream",
     "text": [
      "(-0.2792796610169491, -0.21694915254237288)\n"
     ]
    }
   ],
   "source": [
    "effects = []\n",
    "accepted = (df_merged.decisions == \"Accept\").values.astype(int)\n",
    "for match in matchings:\n",
    "    #print((df_merged.arxiv.iloc[match[0]], df_merged.arxiv.iloc[match[1]]))\n",
    "    effects.append(accepted[match[0]] - accepted[match[1]])\n",
    "    \n",
    "effects = np.array(effects).astype(np.float)\n",
    "n_bootstraps = 250\n",
    "alpha_confidence = 0.05\n",
    "\n",
    "ATEs = []\n",
    "random_state = np.random.RandomState(0)\n",
    "for n in range(n_bootstraps):\n",
    "    (bootstraped_effects,) = bootstrap(effects, random_state=random_state)\n",
    "    ATEs.append(np.mean(bootstraped_effects))\n",
    "    \n",
    "\n",
    "lower_percentiles = np.percentile(ATEs, 100*(alpha_confidence/2))\n",
    "higher_percentiles = np.percentile(ATEs, 100*(1-alpha_confidence/2))\n",
    "\n",
    "\n",
    "print((lower_percentiles, higher_percentiles))"
   ]
  },
  {
   "cell_type": "markdown",
   "metadata": {},
   "source": [
    "This is very strange, the effect appears as negative. This is in contradiction with the study of logistic regression coefficients."
   ]
  },
  {
   "cell_type": "markdown",
   "metadata": {
    "pycharm": {
     "name": "#%% md\n"
    }
   },
   "source": [
    "### Task 3.5\n",
    "\n",
    "Wait, but what about prestigious institutions? \n",
    "\n",
    "1.  To understand what is going on there, repeat tasks 3.2 to 3.4 considering *only* the top 10 institutions. Notice that you can use the same propensity scores and re-do the steps in a reduced dataframe containing only top-institutions.\n",
    "2. **Discuss:** Is this evidence that arxiv breaks double-blind submissions?"
   ]
  },
  {
   "cell_type": "code",
   "execution_count": 29,
   "metadata": {
    "pycharm": {
     "name": "#%%\n"
    }
   },
   "outputs": [
    {
     "name": "stdout",
     "output_type": "stream",
     "text": [
      "Indice 100/300\n",
      "Indice 150/300\n",
      "Indice 200/300\n",
      "Indice 250/300\n"
     ]
    },
    {
     "data": {
      "image/png": "[encoded data removed]",
      "text/plain": [
       "<Figure size 432x288 with 2 Axes>"
      ]
     },
     "metadata": {
      "needs_background": "light"
     },
     "output_type": "display_data"
    },
    {
     "data": {
      "image/png": "[encoded data removed]",
      "text/plain": [
       "<Figure size 432x288 with 1 Axes>"
      ]
     },
     "metadata": {
      "needs_background": "light"
     },
     "output_type": "display_data"
    },
    {
     "data": {
      "image/png": "[encoded data removed]",
      "text/plain": [
       "<Figure size 432x288 with 2 Axes>"
      ]
     },
     "metadata": {
      "needs_background": "light"
     },
     "output_type": "display_data"
    },
    {
     "data": {
      "image/png": "[encoded data removed]",
      "text/plain": [
       "<Figure size 432x288 with 1 Axes>"
      ]
     },
     "metadata": {
      "needs_background": "light"
     },
     "output_type": "display_data"
    },
    {
     "name": "stdout",
     "output_type": "stream",
     "text": [
      "(-0.28421052631578947, -0.12631578947368421)\n"
     ]
    }
   ],
   "source": [
    "df_merged_top_institutions = df_merged.loc[df_merged.has_top_institution == 1.0]\n",
    "df_merged_top_institutions.reset_index(drop=True, inplace=True)\n",
    "\n",
    "remaining_indices = list(df_merged_top_institutions.index)\n",
    "remaining_indices_preprinted = list(df_merged_top_institutions.loc[df_merged_top_institutions.arxiv == 1].index)\n",
    "remaining_indices_not_preprinted = list(df_merged_top_institutions.loc[df_merged_top_institutions.arxiv == 0].index)\n",
    "\n",
    "\n",
    "matchings = []\n",
    "\n",
    "epsilon = 0.05\n",
    "\n",
    "\n",
    "indice = remaining_indices[0]\n",
    "done = False\n",
    "while done is False:\n",
    "    if indice % 50 == 0 and indice != 0:\n",
    "        print(\"Indice {}/{}\".format(indice, df_merged_top_institutions.shape[0]))\n",
    "    \n",
    "    preprinted = df_merged_top_institutions.arxiv.iloc[indice] == 1\n",
    "    if preprinted:\n",
    "        look_up_indices = remaining_indices_not_preprinted\n",
    "        original_indices = remaining_indices_preprinted\n",
    "    else:\n",
    "        look_up_indices = remaining_indices_preprinted\n",
    "        original_indices = remaining_indices_not_preprinted\n",
    "    \n",
    "        \n",
    "    indice_propensity = df_merged_top_institutions.propensity_score.iloc[indice]\n",
    "    for remaining_indice in look_up_indices:\n",
    "        remaining_indice_propensity = df_merged_top_institutions.propensity_score.iloc[remaining_indice]\n",
    "        if np.abs(indice_propensity - remaining_indice_propensity) < epsilon:\n",
    "            \n",
    "            if preprinted is True:\n",
    "                matchings.append((indice, remaining_indice))\n",
    "            else:\n",
    "                matchings.append((remaining_indice, indice))\n",
    "                \n",
    "            original_indices.remove(indice)\n",
    "            look_up_indices.remove(remaining_indice)\n",
    "            remaining_indices.remove(indice)\n",
    "            remaining_indices.remove(remaining_indice)\n",
    "            break\n",
    "            \n",
    "    indice += 1\n",
    "    \n",
    "    while indice not in remaining_indices:\n",
    "        if indice == df_merged_top_institutions.shape[0]:\n",
    "            done = True\n",
    "            break \n",
    "            \n",
    "        indice += 1\n",
    "    \n",
    "    \n",
    "\n",
    "    \n",
    "reputations_preprinted = [df_merged_top_institutions.reputation.iloc[match[0]] for match in matchings]\n",
    "reputations_not_preprinted = [df_merged_top_institutions.reputation.iloc[match[1]] for match in matchings]\n",
    "\n",
    "plt.hist2d(reputations_preprinted, reputations_not_preprinted, bins=(25, 25), cmap=plt.cm.jet)\n",
    "\n",
    "plt.title(\"Density histogram of the empirical $P_{\\mathrm{matched}}(rep_{\\mathrm{printed}},rep_{\\mathrm{not\\;\\;printed}})$\")\n",
    "plt.xlabel(\"Reputation preprinted\")\n",
    "plt.ylabel(\"Reputation not preprinted\")\n",
    "plt.plot(np.linspace(0, 3, 100), np.linspace(0, 3, 100), color=\"red\")\n",
    "plt.colorbar()\n",
    "plt.show()\n",
    "\n",
    "plt.scatter(reputations_preprinted, reputations_not_preprinted)\n",
    "plt.title(\"Scatter plot of matched reputations\")\n",
    "plt.xlabel(\"Reputation preprinted\")\n",
    "plt.ylabel(\"Reputation not preprinted\")\n",
    "plt.plot(np.linspace(0, 3, 100), np.linspace(0, 3, 100), color=\"red\")\n",
    "plt.show()\n",
    "\n",
    "ratings_preprinted = [df_merged_top_institutions.ratings.iloc[match[0]] for match in matchings]\n",
    "ratings_not_preprinted = [df_merged_top_institutions.ratings.iloc[match[1]] for match in matchings]\n",
    "\n",
    "plt.hist2d(ratings_preprinted, ratings_not_preprinted, bins=(25, 25), cmap=plt.cm.jet)\n",
    "\n",
    "plt.title(\"Density histogram of the empirical $P_{\\mathrm{matched}}(rat{\\mathrm{printed}},rat{\\mathrm{not\\;\\;printed}})$\")\n",
    "plt.xlabel(\"Rating preprinted\")\n",
    "plt.ylabel(\"Rating not preprinted\")\n",
    "plt.colorbar()\n",
    "plt.plot(np.linspace(0, 8, 100), np.linspace(0, 8, 100), color=\"red\")\n",
    "plt.show()\n",
    "\n",
    "plt.scatter(ratings_preprinted, ratings_not_preprinted)\n",
    "plt.title(\"Scatter plot of matched ratings\")\n",
    "plt.xlabel(\"Rating preprinted\")\n",
    "plt.ylabel(\"Rating not preprinted\")\n",
    "plt.plot(np.linspace(0, 8, 100), np.linspace(0, 8, 100), color=\"red\")\n",
    "plt.show()\n",
    "\n",
    "\n",
    "\n",
    "effects = []\n",
    "accepted = (df_merged_top_institutions.decisions == \"Accept\").values.astype(int)\n",
    "for match in matchings:\n",
    "    effects.append(accepted[match[0]] - accepted[match[1]])\n",
    "    \n",
    "effects = np.array(effects).astype(np.float)\n",
    "n_bootstraps = 250\n",
    "alpha_confidence = 0.05\n",
    "\n",
    "ATEs = []\n",
    "random_state = np.random.RandomState(0)\n",
    "for n in range(n_bootstraps):\n",
    "    (bootstraped_effects,) = bootstrap(effects, random_state=random_state)\n",
    "    ATEs.append(np.mean(bootstraped_effects))\n",
    "    \n",
    "\n",
    "lower_percentiles = np.percentile(ATEs, 100*(alpha_confidence/2))\n",
    "higher_percentiles = np.percentile(ATEs, 100*(1-alpha_confidence/2))\n",
    "\n",
    "\n",
    "print((lower_percentiles, higher_percentiles))"
   ]
  },
  {
   "cell_type": "markdown",
   "metadata": {},
   "source": [
    "In this case there are much fewer pairs. The covariates appear balanced as well. The effect is negative as before. It needs to be double-checked."
   ]
  },
  {
   "cell_type": "code",
   "execution_count": null,
   "metadata": {},
   "outputs": [],
   "source": []
  }
 ],
 "metadata": {
  "kernelspec": {
   "display_name": "Python 3",
   "language": "python",
   "name": "python3"
  },
  "language_info": {
   "codemirror_mode": {
    "name": "ipython",
    "version": 3
   },
   "file_extension": ".py",
   "mimetype": "text/x-python",
   "name": "python",
   "nbconvert_exporter": "python",
   "pygments_lexer": "ipython3",
   "version": "3.8.5"
  },
  "pycharm": {
   "stem_cell": {
    "cell_type": "raw",
    "metadata": {
     "collapsed": false
    },
    "source": []
   }
  }
 },
 "nbformat": 4,
 "nbformat_minor": 4
}
